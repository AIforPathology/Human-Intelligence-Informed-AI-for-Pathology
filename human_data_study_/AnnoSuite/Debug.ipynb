{
 "cells": [
  {
   "cell_type": "code",
   "execution_count": 2,
   "metadata": {},
   "outputs": [],
   "source": [
    "from os import stat\n",
    "import pandas as pd\n",
    "from sqlalchemy.sql.elements import Label\n",
    "from sqlalchemy.sql.functions import user\n",
    "from doc_anno_suite.database import engine\n",
    "from doc_anno_suite.database import db_session\n",
    "from doc_anno_suite.models import User, Image, Schema, Annotation\n",
    "from sqlalchemy import text\n",
    "from datetime import datetime\n",
    "from dataclasses import asdict\n",
    "from doc_anno_suite.annotations.dbutils import DatabaseCRUD\n",
    "import time\n",
    "from os import stat\n",
    "import pandas as pd\n",
    "from sqlalchemy.sql.elements import Label\n",
    "from sqlalchemy.sql.functions import user\n",
    "from doc_anno_suite.database import engine\n",
    "from doc_anno_suite.models import User, Image, Schema, Annotation\n",
    "from doc_anno_suite.annotations.dbutils import DatabaseCRUD\n",
    "from doc_anno_suite.database import db_session\n",
    "from doc_anno_suite import bcrypt\n",
    "from collections import Counter\n",
    "import zipfile\n",
    "from flask import current_app\n",
    "import os\n",
    "import shutil\n",
    "from datetime import datetime\n",
    "import time"
   ]
  },
  {
   "cell_type": "code",
   "execution_count": 14,
   "metadata": {},
   "outputs": [
    {
     "data": {
      "text/plain": [
       "[Schema('Encoding/Rendering techiques', 'lab_1'),\n",
       " Schema('Bar chart', 'lab_2'),\n",
       " Schema('Point chart', 'lab_3'),\n",
       " Schema('Encoding comments', 'lab_4'),\n",
       " Schema('Hardness', 'lab_5'),\n",
       " Schema('Easy', 'lab_6'),\n",
       " Schema('Neutral', 'lab_7'),\n",
       " Schema('Hard', 'lab_8')]"
      ]
     },
     "execution_count": 14,
     "metadata": {},
     "output_type": "execute_result"
    }
   ],
   "source": [
    "labels = Schema.query.all()\n",
    "\n",
    "\n",
    "\n",
    "def filter_label(type, labels):\n",
    "    '''\n",
    "    filter labels with a specific type\n",
    "    '''\n",
    "    filter_res = []\n",
    "    filtered_label_id = []\n",
    "    for label in labels:\n",
    "        if(label.label_type == type):\n",
    "            filtered_label_id.append(label.label_id)\n",
    "            filtered_label_id.append(label.label_parent)\n",
    "    filtered_label_id = list(set(filtered_label_id))\n",
    "            \n",
    "    for label in labels:\n",
    "        if(label.label_id not in filtered_label_id):\n",
    "            filter_res.append(label)\n",
    "    return filter_res\n",
    "            \n",
    "res = filter_label(4, labels)\n",
    "res"
   ]
  },
  {
   "cell_type": "code",
   "execution_count": 28,
   "metadata": {},
   "outputs": [],
   "source": [
    "labels = Schema.query.with_entities(Schema.label_id, Schema.label_type, Schema.label_parent, Schema.label_name).all()\n",
    "label_dict = {label[0] : {'label_type': label[1], 'label_parent': label[2], 'label_name': label[3]}  for label in labels}"
   ]
  },
  {
   "cell_type": "code",
   "execution_count": 29,
   "metadata": {},
   "outputs": [
    {
     "data": {
      "text/plain": [
       "{'lab_1': {'label_type': 0,\n",
       "  'label_parent': 'root',\n",
       "  'label_name': 'Encoding/Rendering techiques'},\n",
       " 'lab_2': {'label_type': 1,\n",
       "  'label_parent': 'lab_1',\n",
       "  'label_name': 'Bar chart'},\n",
       " 'lab_3': {'label_type': 1,\n",
       "  'label_parent': 'lab_1',\n",
       "  'label_name': 'Point chart'},\n",
       " 'lab_4': {'label_type': 3,\n",
       "  'label_parent': 'lab_1',\n",
       "  'label_name': 'Encoding comments'},\n",
       " 'lab_5': {'label_type': 0, 'label_parent': 'root', 'label_name': 'Hardness'},\n",
       " 'lab_6': {'label_type': 2, 'label_parent': 'lab_5', 'label_name': 'Easy'},\n",
       " 'lab_7': {'label_type': 2, 'label_parent': 'lab_5', 'label_name': 'Neutral'},\n",
       " 'lab_8': {'label_type': 2, 'label_parent': 'lab_5', 'label_name': 'Hard'}}"
      ]
     },
     "execution_count": 29,
     "metadata": {},
     "output_type": "execute_result"
    }
   ],
   "source": [
    "removed_key = []\n",
    "for key in label_dict:\n",
    "    if(label_dict[key]['label_type'] == 4):\n",
    "        removed_key.append(key)\n",
    "        removed_key.append(label_dict[key]['label_parent'])\n",
    "\n",
    "removed_key = list(set(removed_key))\n",
    "        \n",
    "for key in removed_key:\n",
    "    del label_dict[key]\n",
    "    \n",
    "label_dict"
   ]
  },
  {
   "cell_type": "code",
   "execution_count": 31,
   "metadata": {},
   "outputs": [
    {
     "ename": "NameError",
     "evalue": "name 'DatabaseCRUD' is not defined",
     "output_type": "error",
     "traceback": [
      "\u001b[0;31m---------------------------------------------------------------------------\u001b[0m",
      "\u001b[0;31mNameError\u001b[0m                                 Traceback (most recent call last)",
      "\u001b[0;32m<ipython-input-31-10233d7fcade>\u001b[0m in \u001b[0;36m<module>\u001b[0;34m\u001b[0m\n\u001b[0;32m----> 1\u001b[0;31m \u001b[0mDatabaseCRUD\u001b[0m\u001b[0;34m.\u001b[0m\u001b[0mget_label_schemas_as_dict\u001b[0m\u001b[0;34m(\u001b[0m\u001b[0;34m[\u001b[0m\u001b[0;36m1\u001b[0m\u001b[0;34m,\u001b[0m\u001b[0;36m2\u001b[0m\u001b[0;34m]\u001b[0m\u001b[0;34m)\u001b[0m\u001b[0;34m\u001b[0m\u001b[0m\n\u001b[0m",
      "\u001b[0;31mNameError\u001b[0m: name 'DatabaseCRUD' is not defined"
     ]
    }
   ],
   "source": [
    "DatabaseCRUD.get_label_schemas_as_dict([1,2])"
   ]
  },
  {
   "cell_type": "code",
   "execution_count": 32,
   "metadata": {},
   "outputs": [],
   "source": [
    "from doc_anno_suite.annotations.dbutils import AnnotationUtil, DatabaseCRUD"
   ]
  },
  {
   "cell_type": "code",
   "execution_count": 36,
   "metadata": {},
   "outputs": [],
   "source": [
    "schema = DatabaseCRUD.get_label_schemas_as_dict([1,2,3])"
   ]
  },
  {
   "cell_type": "code",
   "execution_count": 37,
   "metadata": {},
   "outputs": [
    {
     "name": "stdout",
     "output_type": "stream",
     "text": [
      "lab_9\n",
      "lab_10\n",
      "lab_11\n",
      "lab_12\n",
      "lab_13\n",
      "lab_14\n",
      "lab_15\n",
      "lab_16\n"
     ]
    }
   ],
   "source": [
    "for l in schema:\n",
    "    print(l)"
   ]
  },
  {
   "cell_type": "code",
   "execution_count": 38,
   "metadata": {},
   "outputs": [
    {
     "data": {
      "text/plain": [
       "'123'"
      ]
     },
     "execution_count": 38,
     "metadata": {},
     "output_type": "execute_result"
    }
   ],
   "source": [
    "a = \"123.zip\"\n",
    "a[:-4]"
   ]
  },
  {
   "cell_type": "code",
   "execution_count": 39,
   "metadata": {},
   "outputs": [
    {
     "data": {
      "text/plain": [
       "'samples_error.zip'"
      ]
     },
     "execution_count": 39,
     "metadata": {},
     "output_type": "execute_result"
    }
   ],
   "source": [
    "'samples error.zip'.replace(' ','_')"
   ]
  },
  {
   "cell_type": "code",
   "execution_count": 47,
   "metadata": {},
   "outputs": [],
   "source": [
    "\n",
    "import os\n",
    "import zipfile"
   ]
  },
  {
   "cell_type": "code",
   "execution_count": 45,
   "metadata": {},
   "outputs": [
    {
     "name": "stdout",
     "output_type": "stream",
     "text": [
      "/Users/ernest/Desktop/inputs ['__MACOSX', 'samples'] []\n",
      "/Users/ernest/Desktop/inputs/__MACOSX ['samples'] []\n",
      "/Users/ernest/Desktop/inputs/__MACOSX/samples [] []\n",
      "/Users/ernest/Desktop/inputs/samples [] ['.DS_Store', 'images.csv', 'users.csv']\n"
     ]
    }
   ],
   "source": [
    "path = '/Users/ernest/Desktop/inputs'\n",
    "for dir, sub_dirs, files in os.walk(path):\n",
    "    print(dir, sub_dirs, files)"
   ]
  },
  {
   "cell_type": "code",
   "execution_count": 56,
   "metadata": {},
   "outputs": [],
   "source": [
    "def zip_multiple_files(ziph, files):\n",
    "        for file in files:\n",
    "            ziph.write(file, file.split('/')[-1])"
   ]
  },
  {
   "cell_type": "code",
   "execution_count": 57,
   "metadata": {},
   "outputs": [],
   "source": [
    "zipf = zipfile.ZipFile('/Users/ernest/Desktop/test.zip', 'w', zipfile.ZIP_DEFLATED)\n",
    "zip_multiple_files(zipf, ['/Users/ernest/Desktop/users.csv', '/Users/ernest/Desktop/images.csv'])\n",
    "zipf.close()"
   ]
  },
  {
   "cell_type": "code",
   "execution_count": 55,
   "metadata": {},
   "outputs": [
    {
     "data": {
      "text/plain": [
       "'users.csv'"
      ]
     },
     "execution_count": 55,
     "metadata": {},
     "output_type": "execute_result"
    }
   ],
   "source": [
    "'/Users/ernest/Desktop/users.csv'.split('/')[-1]"
   ]
  },
  {
   "cell_type": "code",
   "execution_count": 2,
   "metadata": {},
   "outputs": [
    {
     "name": "stdout",
     "output_type": "stream",
     "text": [
      "1\n"
     ]
    }
   ],
   "source": [
    "if not Annotation.query.first():\n",
    "    print(1)"
   ]
  },
  {
   "cell_type": "code",
   "execution_count": 8,
   "metadata": {},
   "outputs": [],
   "source": [
    "data_df = pd.read_csv('dummy data/samples/images non-optional.csv')"
   ]
  },
  {
   "cell_type": "code",
   "execution_count": 12,
   "metadata": {},
   "outputs": [
    {
     "data": {
      "text/plain": [
       "False"
      ]
     },
     "execution_count": 12,
     "metadata": {},
     "output_type": "execute_result"
    }
   ],
   "source": [
    "'O_caption_url' in data_df.columns"
   ]
  },
  {
   "cell_type": "code",
   "execution_count": 15,
   "metadata": {},
   "outputs": [],
   "source": [
    "import matplotlib.pyplot as plt"
   ]
  },
  {
   "cell_type": "code",
   "execution_count": 33,
   "metadata": {},
   "outputs": [
    {
     "data": {
      "text/plain": [
       "<Figure size 200x200 with 0 Axes>"
      ]
     },
     "metadata": {},
     "output_type": "display_data"
    }
   ],
   "source": [
    "def text_to_icon(text, filename):\n",
    "    text = text.upper()[:3]\n",
    "    fig = plt.figure(figsize=(2,2), facecolor=\"none\", dpi=100)\n",
    "    fig.text(0.5, 0.4, text, color=\"dimgray\", fontsize=60, fontweight='bold', ha = 'center',va = 'center', style = 'italic')\n",
    "    plt.savefig(filename, facecolor=fig.get_facecolor())\n",
    "    \n",
    "text_to_icon('BrO','test.png')"
   ]
  },
  {
   "cell_type": "code",
   "execution_count": 34,
   "metadata": {},
   "outputs": [],
   "source": [
    "import time\n"
   ]
  },
  {
   "cell_type": "code",
   "execution_count": 38,
   "metadata": {},
   "outputs": [
    {
     "data": {
      "text/plain": [
       "1642127347"
      ]
     },
     "execution_count": 38,
     "metadata": {},
     "output_type": "execute_result"
    }
   ],
   "source": [
    "int(time.time())"
   ]
  },
  {
   "cell_type": "code",
   "execution_count": 42,
   "metadata": {},
   "outputs": [],
   "source": [
    "labels = Schema.query.filter_by(label_isbbox=1).with_entities(Schema.label_id, Schema.label_type, Schema.label_parent, Schema.label_name, Schema.label_abbr).all()\n",
    "label_dict = {label[0] : {'label_type': label[1], 'label_parent': label[2], 'label_name': label[3], 'label_abbr': label[4]}  for label in labels}"
   ]
  },
  {
   "cell_type": "code",
   "execution_count": 43,
   "metadata": {},
   "outputs": [
    {
     "data": {
      "text/plain": [
       "{'lab_1': {'label_type': 0,\n",
       "  'label_parent': 'root',\n",
       "  'label_name': 'Encoding/Rendering techiques',\n",
       "  'label_abbr': 'EC'},\n",
       " 'lab_2': {'label_type': 1,\n",
       "  'label_parent': 'lab_1',\n",
       "  'label_name': 'Bar chart',\n",
       "  'label_abbr': 'BCR'},\n",
       " 'lab_3': {'label_type': 1,\n",
       "  'label_parent': 'lab_1',\n",
       "  'label_name': 'Point chart',\n",
       "  'label_abbr': 'Pot'}}"
      ]
     },
     "execution_count": 43,
     "metadata": {},
     "output_type": "execute_result"
    }
   ],
   "source": [
    "label_dict"
   ]
  },
  {
   "cell_type": "code",
   "execution_count": 44,
   "metadata": {},
   "outputs": [
    {
     "data": {
      "text/plain": [
       "['']"
      ]
     },
     "execution_count": 44,
     "metadata": {},
     "output_type": "execute_result"
    }
   ],
   "source": [
    "''.split(';')"
   ]
  },
  {
   "cell_type": "markdown",
   "metadata": {},
   "source": [
    "### converter"
   ]
  },
  {
   "cell_type": "code",
   "execution_count": 45,
   "metadata": {
    "code_folding": [
     0
    ]
   },
   "outputs": [],
   "source": [
    "class Utils():\n",
    "\n",
    "    @staticmethod\n",
    "    def createTableDicByData(dicID, data):\n",
    "        dataDic = {}\n",
    "        column_list = data.columns.values.tolist()\n",
    "        for i in range(len(data)):\n",
    "            dataID = str(data.loc[i,dicID])\n",
    "            if(dataID in dataDic):\n",
    "                dataInfo = {}\n",
    "                for key in column_list:\n",
    "                    dataInfo[key] = data.loc[i,key]\n",
    "                dataDic[dataID].append(dataInfo)\n",
    "            else:\n",
    "                dataInfo = {}\n",
    "                for key in column_list:\n",
    "                    dataInfo[key] = data.loc[i,key]\n",
    "                dataDic[dataID] = [dataInfo]\n",
    "        return dataDic \n",
    "\n",
    "    @staticmethod\n",
    "    def createTableDicTwoByData(dicID1, dicID2, data):\n",
    "        dataDic = {}\n",
    "        column_list = data.columns.values.tolist()\n",
    "        for i in range(len(data)):\n",
    "            dataID1 = data.loc[i,dicID1]\n",
    "            dataID2 = data.loc[i,dicID2]\n",
    "            dataID = str(dataID1) + '-' + str(dataID2)\n",
    "            if(dataID in dataDic):\n",
    "                dataInfo = {}\n",
    "                for key in column_list:\n",
    "                    dataInfo[key] = data.loc[i,key]\n",
    "                dataDic[dataID].append(dataInfo)\n",
    "            else:\n",
    "                dataInfo = {}\n",
    "                for key in column_list:\n",
    "                    dataInfo[key] = data.loc[i,key]\n",
    "                dataDic[dataID] = [dataInfo]\n",
    "        return dataDic \n"
   ]
  },
  {
   "cell_type": "code",
   "execution_count": 46,
   "metadata": {},
   "outputs": [],
   "source": [
    "sql_query = pd.read_sql_query('''SELECT * FROM image''', engine)\n",
    "image_df = pd.DataFrame(sql_query)\n",
    "\n",
    "sql_query = pd.read_sql_query('''SELECT * FROM user''', engine)\n",
    "user_df = pd.DataFrame(sql_query)\n",
    "\n",
    "sql_query = pd.read_sql_query('''SELECT * FROM schema''', engine)\n",
    "schema_df = pd.DataFrame(sql_query)\n",
    "\n",
    "sql_query = pd.read_sql_query('''SELECT * FROM annotation''', engine)\n",
    "anno_df = pd.DataFrame(sql_query)"
   ]
  },
  {
   "cell_type": "code",
   "execution_count": 47,
   "metadata": {},
   "outputs": [],
   "source": [
    "data_dic = Utils.createTableDicByData('image_id', anno_df)"
   ]
  },
  {
   "cell_type": "code",
   "execution_count": 50,
   "metadata": {},
   "outputs": [
    {
     "data": {
      "text/plain": [
       "True"
      ]
     },
     "execution_count": 50,
     "metadata": {},
     "output_type": "execute_result"
    }
   ],
   "source": [
    "data_dic['I1'][0]['lab_4'] == ''"
   ]
  },
  {
   "cell_type": "code",
   "execution_count": 73,
   "metadata": {
    "code_folding": [
     10,
     64
    ]
   },
   "outputs": [
    {
     "name": "stdout",
     "output_type": "stream",
     "text": [
      "{'M_image_id': 'I2', 'M_image_name': 'InfoVisJ.1182.8.png', 'M_image_url': 'https://web.cse.ohio-state.edu/~chen.8028/VisPubImages/Images/2020/InfoVisJ.1182.8.png', 'username1': 'RL', 'username2': 'JC', 'username1-is_error_image': 0, 'username2-is_error_image': 0, 'username1-need_discuss': 0, 'username2-need_discuss': 0, 'username1-marked_fun': 0, 'username2-marked_fun': 0, 'username1-marked_OK': 0, 'username2-marked_OK': 0, 'username1-checked_caption': 0, 'username2-checked_caption': 0, 'username1-checked_paper': 0, 'username2-checked_paper': 0, 'username1-EC': 'BCR; Pot', 'username2-EC': '', 'username1-HC': 'Eas', 'username2-HC': '', 'username1-regions': '[{\"L\":159,\"R\":389,\"T\":91,\"B\":255,\"label_id\":\"lab_2\"}]', 'username2-regions': '', 'username1-annotation_log': 'RL:login; RL:login; RL:login; RL:login; RL:regions:[{\"L\":159,\"R\":389,\"T\":91,\"B\":255,\"label_id\":\"lab_2\"}]; RL:login; RL:login; RL:login; RL:login; RL:login; RL:login; RL:login; RL:login; RL:login; RL:login; RL:login; RL:login; RL:regions:[{\"L\":159,\"R\":389,\"T\":91,\"B\":255,\"label_id\":\"lab_2\"}]; RL:login; RL:login; RL:lab_2:1; RL:lab_3:1; RL:lab_5:lab_6; RL:lab_4:; RL:login; RL:login; RL:login; RL:login; RL:lab_2:0; RL:login; RL:login; RL:login; RL:login; RL:lab_2:1', 'username2-annotation_log': '', 'username1-log_dates': '01/13/2022, 22:52:08; 01/13/2022, 22:52:21; 01/13/2022, 22:52:27; 01/13/2022, 23:03:16; 01/13/2022, 23:03:22; 01/13/2022, 23:18:49; 01/13/2022, 23:19:17; 01/13/2022, 23:22:56; 01/13/2022, 23:24:01; 01/13/2022, 23:24:41; 01/13/2022, 23:25:39; 01/13/2022, 23:25:59; 01/13/2022, 23:26:20; 01/13/2022, 23:26:25; 01/13/2022, 23:26:37; 01/13/2022, 23:26:39; 01/13/2022, 23:26:40; 01/13/2022, 23:43:07; 01/13/2022, 23:43:08; 01/14/2022, 11:33:12; 01/14/2022, 11:33:15; 01/14/2022, 11:33:16; 01/14/2022, 11:33:17; 01/14/2022, 11:33:17; 01/14/2022, 11:33:22; 01/14/2022, 11:33:36; 01/14/2022, 11:36:31; 01/14/2022, 11:36:41; 01/14/2022, 11:36:41; 01/14/2022, 11:36:45; 01/14/2022, 11:55:18; 01/14/2022, 11:55:57; 01/14/2022, 12:31:10; 01/14/2022, 12:31:10', 'username2-log_dates': ''}\n",
      "{'M_image_id': 'I3', 'M_image_name': 'InfoVisJ.678.8.png', 'M_image_url': 'https://web.cse.ohio-state.edu/~chen.8028/VisPubImages/Images/2015/InfoVisJ.678.8.png', 'username1': 'RL', 'username2': 'JC', 'username1-is_error_image': 0, 'username2-is_error_image': 0, 'username1-need_discuss': 0, 'username2-need_discuss': 0, 'username1-marked_fun': 0, 'username2-marked_fun': 0, 'username1-marked_OK': 0, 'username2-marked_OK': 0, 'username1-checked_caption': 0, 'username2-checked_caption': 0, 'username1-checked_paper': 0, 'username2-checked_paper': 0, 'username1-EC': 'BCR; Pot', 'username2-EC': '', 'username1-HC': '', 'username2-HC': '', 'username1-regions': '[{\"L\":367,\"R\":494,\"T\":60,\"B\":187,\"label_id\":\"lab_2\"},{\"L\":611,\"R\":738,\"T\":74,\"B\":201,\"label_id\":\"lab_3\"}]', 'username2-regions': '', 'username1-annotation_log': 'RL:login; RL:regions:[]; RL:login; RL:login; RL:lab_4:; RL:login; RL:login; RL:regions:[]; RL:login; RL:login; RL:lab_4:; RL:login; RL:regions:[]; RL:login; RL:login; RL:login; RL:regions:[]; RL:login; RL:regions:[]; RL:login; RL:regions:[{\"L\":466,\"R\":593,\"T\":125,\"B\":252,\"label_id\":\"lab_2\"}]; RL:login; RL:regions:[{\"L\":466,\"R\":593,\"T\":125,\"B\":252,\"label_id\":\"lab_2\"}]; RL:login; RL:lab_2:1; RL:lab_3:1; RL:regions:[{\"L\":367,\"R\":494,\"T\":60,\"B\":187,\"label_id\":\"lab_2\"},{\"L\":611,\"R\":738,\"T\":74,\"B\":201,\"label_id\":\"lab_3\"}]; RL:login; RL:login; RL:regions:[{\"L\":367,\"R\":494,\"T\":60,\"B\":187,\"label_id\":\"lab_2\"},{\"L\":611,\"R\":738,\"T\":74,\"B\":201,\"label_id\":\"lab_3\"}]; RL:login; RL:login; RL:login; RL:login; RL:login; RL:login; RL:login; RL:login; RL:login; RL:login', 'username2-annotation_log': '', 'username1-log_dates': '01/13/2022, 23:43:07; 01/13/2022, 23:43:08; 01/14/2022, 11:13:33; 01/14/2022, 11:33:10; 01/14/2022, 11:33:11; 01/14/2022, 11:33:18; 01/14/2022, 11:33:19; 01/14/2022, 11:33:21; 01/14/2022, 11:33:34; 01/14/2022, 11:36:39; 01/14/2022, 11:36:40; 01/14/2022, 11:36:44; 01/14/2022, 11:36:45; 01/14/2022, 11:53:38; 01/14/2022, 11:55:15; 01/14/2022, 11:55:17; 01/14/2022, 11:55:17; 01/14/2022, 11:55:51; 01/14/2022, 11:55:56; 01/14/2022, 12:22:57; 01/14/2022, 12:23:01; 01/14/2022, 12:23:04; 01/14/2022, 12:23:05; 01/14/2022, 12:29:55; 01/14/2022, 12:30:01; 01/14/2022, 12:30:01; 01/14/2022, 12:30:01; 01/14/2022, 12:30:03; 01/14/2022, 12:30:06; 01/14/2022, 12:31:09; 01/14/2022, 12:31:11; 01/14/2022, 12:32:41; 01/14/2022, 12:32:46; 01/14/2022, 12:38:56; 01/14/2022, 12:39:14; 01/14/2022, 13:10:47; 01/14/2022, 13:11:08; 01/14/2022, 13:11:16; 01/14/2022, 13:11:25; 01/14/2022, 13:11:30', 'username2-log_dates': ''}\n",
      "{'M_image_id': 'I1', 'M_image_name': 'VisC.239.11.png', 'M_image_url': 'https://web.cse.ohio-state.edu/~chen.8028/VisPubImages/Images/2005/VisC.239.11.png', 'username1': 'RL', 'username2': 'JC', 'username1-is_error_image': 0, 'username2-is_error_image': 0, 'username1-need_discuss': 0, 'username2-need_discuss': 0, 'username1-marked_fun': 0, 'username2-marked_fun': 0, 'username1-marked_OK': 0, 'username2-marked_OK': 0, 'username1-checked_caption': 0, 'username2-checked_caption': 0, 'username1-checked_paper': 0, 'username2-checked_paper': 0, 'username1-EC': '', 'username2-EC': '', 'username1-HC': '', 'username2-HC': '', 'username1-regions': '', 'username2-regions': '', 'username1-annotation_log': '', 'username2-annotation_log': '', 'username1-log_dates': '', 'username2-log_dates': ''}\n"
     ]
    }
   ],
   "source": [
    "data_dic = Utils.createTableDicByData('image_id', anno_df)\n",
    "schema_dic = Utils.createTableDicByData('label_id', schema_df)\n",
    "image_dic = Utils.createTableDicByData('image_id', image_df)\n",
    "\n",
    "categories = []\n",
    "for label_id in schema_dic:\n",
    "    if(schema_dic[label_id][0]['label_parent'] == 'root'):\n",
    "        categories.append(label_id)\n",
    "        \n",
    "table_list = []\n",
    "for image_id in data_dic:\n",
    "    table_dic = {}\n",
    "    #image meta\n",
    "    image_name = image_dic[image_id][0]['image_name']\n",
    "    image_url = image_dic[image_id][0]['image_url']\n",
    "\n",
    "    table_dic['M_image_id'] = image_id\n",
    "    table_dic['M_image_name'] = image_name\n",
    "    table_dic['M_image_url'] = image_url\n",
    "\n",
    "    #user meta, all results are assumed there are two users\n",
    "    usernames = []\n",
    "    table_dic['username1'] = data_dic[image_id][0]['username']\n",
    "    usernames.append(data_dic[image_id][0]['username'])\n",
    "    if(len(data_dic[image_id]) == 2):\n",
    "        table_dic['username2'] = data_dic[image_id][1]['username']\n",
    "        usernames.append(data_dic[image_id][1]['username'])\n",
    "    elif(len(data_dic[image_id]) == 1):\n",
    "        table_dic['username2'] = ''\n",
    "\n",
    "    #annotations\n",
    "    annotations = data_dic[image_id]\n",
    "    user_res = {} #store the results of each user\n",
    "    for record in annotations:\n",
    "        username = record['username']\n",
    "        \n",
    "        for category in categories:\n",
    "            user_res[username + '-' +category] = []\n",
    "\n",
    "        for label_id in schema_dic:\n",
    "            if(schema_dic[label_id][0]['label_type'] == 1):\n",
    "                if(record[label_id] == 1):\n",
    "                    label_name = schema_dic[label_id][0]['label_abbr']\n",
    "                    user_res[username + '-' +schema_dic[label_id][0]['label_parent']].append(label_name)\n",
    "            if(schema_dic[label_id][0]['label_type'] == 2):\n",
    "                if(record[schema_dic[label_id][0]['label_parent']] == label_id):\n",
    "                    label_name = schema_dic[label_id][0]['label_abbr']\n",
    "                    user_res[username + '-' +schema_dic[label_id][0]['label_parent']].append(label_name)\n",
    "            if(schema_dic[label_id][0]['label_type'] == 3):\n",
    "                if(record[label_id] != ''):\n",
    "                    text = record[label_id]\n",
    "                    user_res[username + '-' +schema_dic[label_id][0]['label_parent']].append(text)\n",
    "    \n",
    "        user_res[username + '-is_error_image'] = record['is_error_image']\n",
    "        user_res[username + '-need_discuss'] = record['need_discuss']\n",
    "        user_res[username + '-marked_fun'] = record['marked_fun']\n",
    "        user_res[username + '-marked_OK'] = record['marked_OK']\n",
    "        user_res[username + '-checked_caption'] = record['checked_caption']\n",
    "        user_res[username + '-checked_paper'] = record['checked_paper']\n",
    "        user_res[username + '-regions'] = record['regions']\n",
    "        user_res[username + '-annotation_log'] = record['annotation_log']\n",
    "        user_res[username + '-log_dates'] = record['log_dates']\n",
    "        \n",
    "    table_dic['username1' + '-is_error_image'] = user_res[usernames[0] + '-is_error_image']\n",
    "    if(usernames[1] != ''):\n",
    "        table_dic['username2' + '-is_error_image'] = user_res[usernames[1] + '-is_error_image']\n",
    "    else:\n",
    "        table_dic['username2' + '-is_error_image'] = 0\n",
    "    \n",
    "    table_dic['username1' + '-need_discuss'] = user_res[usernames[0] + '-need_discuss']\n",
    "    if(usernames[1] != ''):\n",
    "        table_dic['username2' + '-need_discuss'] = user_res[usernames[1] + '-need_discuss']\n",
    "    else:\n",
    "        table_dic['username2' + '-need_discuss'] = 0\n",
    "        \n",
    "    table_dic['username1' + '-marked_fun'] = user_res[usernames[0] + '-marked_fun']\n",
    "    if(usernames[1] != ''):\n",
    "        table_dic['username2' + '-marked_fun'] = user_res[usernames[1] + '-marked_fun']\n",
    "    else:\n",
    "        table_dic['username2' + '-marked_fun'] = 0\n",
    "        \n",
    "    table_dic['username1' + '-marked_OK'] = user_res[usernames[0] + '-marked_OK']\n",
    "    if(usernames[1] != ''):\n",
    "        table_dic['username2' + '-marked_OK'] = user_res[usernames[1] + '-marked_OK']\n",
    "    else:\n",
    "        table_dic['username2' + '-marked_OK'] = 0\n",
    "        \n",
    "    table_dic['username1' + '-checked_caption'] = user_res[usernames[0] + '-checked_caption']\n",
    "    if(usernames[1] != ''):\n",
    "        table_dic['username2' + '-checked_caption'] = user_res[usernames[1] + '-checked_caption']\n",
    "    else:\n",
    "        table_dic['username2' + '-checked_caption'] = 0\n",
    "        \n",
    "    table_dic['username1' + '-checked_paper'] = user_res[usernames[0] + '-checked_paper']\n",
    "    if(usernames[1] != ''):\n",
    "        table_dic['username2' + '-checked_paper'] = user_res[usernames[1] + '-checked_paper']\n",
    "    else:\n",
    "        table_dic['username2' + '-checked_paper'] = 0\n",
    "    \n",
    "    #print(user_res)\n",
    "    for category in categories:\n",
    "        category_name =  schema_dic[category][0]['label_abbr']\n",
    "        table_dic['username1-' + category_name] = '; '.join(user_res[usernames[0] + '-' + category])\n",
    "        if(usernames[1] != ''):\n",
    "            table_dic['username2-' + category_name] = '; '.join(user_res[usernames[1] + '-' + category])\n",
    "        else:\n",
    "            table_dic['username2-' + category_name] = ''\n",
    "    \n",
    "    table_dic['username1' + '-regions'] = user_res[usernames[0] + '-regions']\n",
    "    if(usernames[1] != ''):\n",
    "        table_dic['username2' + '-regions'] = user_res[usernames[1] + '-regions']\n",
    "    else:\n",
    "        table_dic['username2' + '-regions'] = 0\n",
    "        \n",
    "    table_dic['username1' + '-annotation_log'] = user_res[usernames[0] + '-annotation_log']\n",
    "    if(usernames[1] != ''):\n",
    "        table_dic['username2' + '-annotation_log'] = user_res[usernames[1] + '-annotation_log']\n",
    "    else:\n",
    "        table_dic['username2' + '-annotation_log'] = ''\n",
    "        \n",
    "    table_dic['username1' + '-log_dates'] = user_res[usernames[0] + '-log_dates']\n",
    "    if(usernames[1] != ''):\n",
    "        table_dic['username2' + '-log_dates'] = user_res[usernames[1] + '-log_dates']\n",
    "    else:\n",
    "        table_dic['username2' + '-log_dates'] = ''\n",
    "        \n",
    "print(1)\n",
    "    "
   ]
  },
  {
   "cell_type": "code",
   "execution_count": 59,
   "metadata": {},
   "outputs": [
    {
     "data": {
      "text/plain": [
       "{'id': 2,\n",
       " 'image_id': 'I1',\n",
       " 'username': 'RL',\n",
       " 'annotation_log': '',\n",
       " 'log_dates': '',\n",
       " 'is_error_image': 0,\n",
       " 'need_discuss': 0,\n",
       " 'marked_fun': 0,\n",
       " 'marked_OK': 0,\n",
       " 'checked_caption': 0,\n",
       " 'checked_paper': 0,\n",
       " 'lab_2': 0,\n",
       " 'lab_3': 0,\n",
       " 'lab_4': '',\n",
       " 'lab_5': '',\n",
       " 'regions': ''}"
      ]
     },
     "execution_count": 59,
     "metadata": {},
     "output_type": "execute_result"
    }
   ],
   "source": [
    "data_dic['I1'][0]"
   ]
  },
  {
   "cell_type": "markdown",
   "metadata": {},
   "source": [
    "### convert csv to db\n"
   ]
  },
  {
   "cell_type": "code",
   "execution_count": 99,
   "metadata": {},
   "outputs": [],
   "source": [
    "annotation_data = pd.read_csv('dummy data/samples/annotations.csv', encoding = 'utf-8')\n",
    "shema_data = pd.read_csv('dummy data/samples/label_schema.csv', encoding = 'utf-8')"
   ]
  },
  {
   "cell_type": "code",
   "execution_count": 105,
   "metadata": {
    "code_folding": [
     15,
     28,
     43
    ]
   },
   "outputs": [
    {
     "data": {
      "text/html": [
       "<div>\n",
       "<style scoped>\n",
       "    .dataframe tbody tr th:only-of-type {\n",
       "        vertical-align: middle;\n",
       "    }\n",
       "\n",
       "    .dataframe tbody tr th {\n",
       "        vertical-align: top;\n",
       "    }\n",
       "\n",
       "    .dataframe thead th {\n",
       "        text-align: right;\n",
       "    }\n",
       "</style>\n",
       "<table border=\"1\" class=\"dataframe\">\n",
       "  <thead>\n",
       "    <tr style=\"text-align: right;\">\n",
       "      <th></th>\n",
       "      <th>image_id</th>\n",
       "      <th>username</th>\n",
       "      <th>annotation_log</th>\n",
       "      <th>log_dates</th>\n",
       "      <th>is_error_image</th>\n",
       "      <th>need_discuss</th>\n",
       "      <th>marked_fun</th>\n",
       "      <th>marked_OK</th>\n",
       "      <th>checked_caption</th>\n",
       "      <th>checked_paper</th>\n",
       "      <th>lab_2</th>\n",
       "      <th>lab_3</th>\n",
       "      <th>lab_4</th>\n",
       "      <th>lab_5</th>\n",
       "      <th>regions</th>\n",
       "    </tr>\n",
       "  </thead>\n",
       "  <tbody>\n",
       "    <tr>\n",
       "      <th>0</th>\n",
       "      <td>I2</td>\n",
       "      <td>RL</td>\n",
       "      <td>RL:login; RL:lab_2:1; RL:lab_3:1; RL:lab_5:lab...</td>\n",
       "      <td>01/15/2022, 16:16:07; 01/15/2022, 16:16:08; 01...</td>\n",
       "      <td>0</td>\n",
       "      <td>0</td>\n",
       "      <td>0</td>\n",
       "      <td>0</td>\n",
       "      <td>0</td>\n",
       "      <td>0</td>\n",
       "      <td>1</td>\n",
       "      <td>1</td>\n",
       "      <td></td>\n",
       "      <td>lab_6</td>\n",
       "      <td></td>\n",
       "    </tr>\n",
       "    <tr>\n",
       "      <th>1</th>\n",
       "      <td>I2</td>\n",
       "      <td>JC</td>\n",
       "      <td>JC:login; JC:lab_3:1; JC:lab_2:1; JC:lab_5:lab...</td>\n",
       "      <td>01/15/2022, 16:16:33; 01/15/2022, 16:16:33; 01...</td>\n",
       "      <td>0</td>\n",
       "      <td>0</td>\n",
       "      <td>0</td>\n",
       "      <td>0</td>\n",
       "      <td>0</td>\n",
       "      <td>0</td>\n",
       "      <td>1</td>\n",
       "      <td>1</td>\n",
       "      <td></td>\n",
       "      <td>lab_8</td>\n",
       "      <td></td>\n",
       "    </tr>\n",
       "    <tr>\n",
       "      <th>2</th>\n",
       "      <td>I3</td>\n",
       "      <td>RL</td>\n",
       "      <td>RL:login; RL:lab_3:1; RL:lab_5:lab_6; RL:lab_4:</td>\n",
       "      <td>01/15/2022, 16:16:13; 01/15/2022, 16:16:15; 01...</td>\n",
       "      <td>0</td>\n",
       "      <td>0</td>\n",
       "      <td>0</td>\n",
       "      <td>0</td>\n",
       "      <td>0</td>\n",
       "      <td>0</td>\n",
       "      <td>0</td>\n",
       "      <td>1</td>\n",
       "      <td></td>\n",
       "      <td>lab_6</td>\n",
       "      <td></td>\n",
       "    </tr>\n",
       "    <tr>\n",
       "      <th>3</th>\n",
       "      <td>I3</td>\n",
       "      <td>JC</td>\n",
       "      <td>JC:login; JC:lab_3:1; JC:lab_5:lab_6; JC:lab_4:</td>\n",
       "      <td>01/15/2022, 16:16:35; 01/15/2022, 16:16:37; 01...</td>\n",
       "      <td>0</td>\n",
       "      <td>0</td>\n",
       "      <td>0</td>\n",
       "      <td>0</td>\n",
       "      <td>0</td>\n",
       "      <td>0</td>\n",
       "      <td>0</td>\n",
       "      <td>1</td>\n",
       "      <td></td>\n",
       "      <td>lab_6</td>\n",
       "      <td></td>\n",
       "    </tr>\n",
       "    <tr>\n",
       "      <th>4</th>\n",
       "      <td>I1</td>\n",
       "      <td>RL</td>\n",
       "      <td>RL:login; RL:lab_5:lab_7; RL:lab_4:Lion; RL:login</td>\n",
       "      <td>01/15/2022, 16:16:16; 01/15/2022, 16:16:20; 01...</td>\n",
       "      <td>0</td>\n",
       "      <td>0</td>\n",
       "      <td>0</td>\n",
       "      <td>0</td>\n",
       "      <td>0</td>\n",
       "      <td>0</td>\n",
       "      <td>0</td>\n",
       "      <td>0</td>\n",
       "      <td>Lion</td>\n",
       "      <td>lab_7</td>\n",
       "      <td></td>\n",
       "    </tr>\n",
       "    <tr>\n",
       "      <th>5</th>\n",
       "      <td>I1</td>\n",
       "      <td>JC</td>\n",
       "      <td>JC:login; JC:lab_5:lab_6; JC:lab_4:test</td>\n",
       "      <td>01/15/2022, 16:16:28; 01/15/2022, 16:16:32; 01...</td>\n",
       "      <td>0</td>\n",
       "      <td>0</td>\n",
       "      <td>0</td>\n",
       "      <td>0</td>\n",
       "      <td>0</td>\n",
       "      <td>0</td>\n",
       "      <td>0</td>\n",
       "      <td>0</td>\n",
       "      <td>test</td>\n",
       "      <td>lab_6</td>\n",
       "      <td></td>\n",
       "    </tr>\n",
       "  </tbody>\n",
       "</table>\n",
       "</div>"
      ],
      "text/plain": [
       "  image_id username                                     annotation_log  \\\n",
       "0       I2       RL  RL:login; RL:lab_2:1; RL:lab_3:1; RL:lab_5:lab...   \n",
       "1       I2       JC  JC:login; JC:lab_3:1; JC:lab_2:1; JC:lab_5:lab...   \n",
       "2       I3       RL    RL:login; RL:lab_3:1; RL:lab_5:lab_6; RL:lab_4:   \n",
       "3       I3       JC    JC:login; JC:lab_3:1; JC:lab_5:lab_6; JC:lab_4:   \n",
       "4       I1       RL  RL:login; RL:lab_5:lab_7; RL:lab_4:Lion; RL:login   \n",
       "5       I1       JC            JC:login; JC:lab_5:lab_6; JC:lab_4:test   \n",
       "\n",
       "                                           log_dates  is_error_image  \\\n",
       "0  01/15/2022, 16:16:07; 01/15/2022, 16:16:08; 01...               0   \n",
       "1  01/15/2022, 16:16:33; 01/15/2022, 16:16:33; 01...               0   \n",
       "2  01/15/2022, 16:16:13; 01/15/2022, 16:16:15; 01...               0   \n",
       "3  01/15/2022, 16:16:35; 01/15/2022, 16:16:37; 01...               0   \n",
       "4  01/15/2022, 16:16:16; 01/15/2022, 16:16:20; 01...               0   \n",
       "5  01/15/2022, 16:16:28; 01/15/2022, 16:16:32; 01...               0   \n",
       "\n",
       "   need_discuss  marked_fun  marked_OK  checked_caption  checked_paper  lab_2  \\\n",
       "0             0           0          0                0              0      1   \n",
       "1             0           0          0                0              0      1   \n",
       "2             0           0          0                0              0      0   \n",
       "3             0           0          0                0              0      0   \n",
       "4             0           0          0                0              0      0   \n",
       "5             0           0          0                0              0      0   \n",
       "\n",
       "   lab_3 lab_4  lab_5 regions  \n",
       "0      1        lab_6          \n",
       "1      1        lab_8          \n",
       "2      1        lab_6          \n",
       "3      1        lab_6          \n",
       "4      0  Lion  lab_7          \n",
       "5      0  test  lab_6          "
      ]
     },
     "execution_count": 105,
     "metadata": {},
     "output_type": "execute_result"
    }
   ],
   "source": [
    "schema_dic = Utils.createTableDicByData('M_label_abbr', shema_data)\n",
    "schema_id_dic = Utils.createTableDicByData('M_label_id', shema_data)\n",
    "anno_table_list = []\n",
    "\n",
    "for i in range(len(annotation_data)):\n",
    "    image_id = annotation_data.at[i,'M_image_id']\n",
    "    user_dic = {}\n",
    "    user_dic['user1'] = annotation_data.at[i,'user1 name']\n",
    "    user_dic['user2'] = annotation_data.at[i,'user2 name']\n",
    "    if(pd.isna(user_dic['user2'])):\n",
    "        users = ['user1']\n",
    "    else:\n",
    "        users = ['user1', 'user2']\n",
    "    \n",
    "        \n",
    "    for user in users:\n",
    "        table_dic = {}\n",
    "        table_dic['image_id'] = image_id\n",
    "        table_dic['username'] = user_dic[user]\n",
    "        table_dic['annotation_log'] = annotation_data.at[i,user+'-annotation_log']\n",
    "        table_dic['log_dates'] = annotation_data.at[i,user+'-log_dates']\n",
    "        table_dic['is_error_image'] = annotation_data.at[i,user+'-is_error_image']\n",
    "        table_dic['need_discuss'] = annotation_data.at[i,user+'-need_discuss']\n",
    "        table_dic['marked_fun'] = annotation_data.at[i,user+'-marked_fun']\n",
    "        table_dic['marked_OK'] = annotation_data.at[i,user+'-marked_OK']\n",
    "        table_dic['checked_caption'] = annotation_data.at[i,user+'-checked_caption']\n",
    "        table_dic['checked_paper'] = annotation_data.at[i,user+'-checked_paper']\n",
    "        categories = []\n",
    "        for label_id in schema_id_dic:\n",
    "            label_type = schema_id_dic[label_id][0]['M_label_type']\n",
    "            if(int(label_type) == 0):\n",
    "                categories.append(schema_id_dic[label_id][0]['M_label_abbr'])\n",
    "            elif(int(label_type) == 1):\n",
    "                table_dic[label_id] = int(0)\n",
    "            elif(int(label_type) == 2):\n",
    "                table_dic[schema_id_dic[label_id][0]['M_label_parent']] = \"\"\n",
    "            elif(int(label_type) == 3):\n",
    "                table_dic[label_id] = \"\"\n",
    "        \n",
    "        if(pd.isna(annotation_data.at[i,user+'-regions'])):\n",
    "            table_dic['regions'] = \"\"\n",
    "        else:\n",
    "            table_dic['regions'] = annotation_data.at[i,user+'-regions']\n",
    "        for category in categories:\n",
    "            record = annotation_data.at[i,user+'-'+category]\n",
    "            if(not pd.isna(record)):\n",
    "                record = record.split('; ')\n",
    "                for abbr in record:\n",
    "                    if(abbr in schema_dic):\n",
    "                        label_id = schema_dic[abbr][0]['M_label_id']\n",
    "                        label_type = schema_dic[abbr][0]['M_label_type']\n",
    "                        if(int(label_type) == 1):\n",
    "                            table_dic[label_id] = int(1)\n",
    "                        elif(int(label_type) == 2):\n",
    "                            table_dic[schema_id_dic[label_id][0]['M_label_parent']] = label_id\n",
    "                    else:\n",
    "                        text_abbr = abbr.split(':')[0]\n",
    "                        text = abbr.split(':')[1]\n",
    "                        label_id = schema_dic[text_abbr][0]['M_label_id']\n",
    "                        table_dic[label_id] = text\n",
    "        \n",
    "        anno_table_list.append(table_dic)\n",
    "        \n",
    "df = pd.DataFrame(anno_table_list)\n",
    "\n",
    "df\n",
    "    "
   ]
  },
  {
   "cell_type": "code",
   "execution_count": 110,
   "metadata": {},
   "outputs": [
    {
     "ename": "OperationalError",
     "evalue": "(sqlite3.OperationalError) attempt to write a readonly database\n[SQL: DELETE FROM schema]\n(Background on this error at: http://sqlalche.me/e/13/e3q8)",
     "output_type": "error",
     "traceback": [
      "\u001b[0;31m---------------------------------------------------------------------------\u001b[0m",
      "\u001b[0;31mOperationalError\u001b[0m                          Traceback (most recent call last)",
      "\u001b[0;32m~/opt/anaconda3/envs/Vis/lib/python3.7/site-packages/sqlalchemy/engine/base.py\u001b[0m in \u001b[0;36m_execute_context\u001b[0;34m(self, dialect, constructor, statement, parameters, *args)\u001b[0m\n\u001b[1;32m   1276\u001b[0m                     self.dialect.do_execute(\n\u001b[0;32m-> 1277\u001b[0;31m                         \u001b[0mcursor\u001b[0m\u001b[0;34m,\u001b[0m \u001b[0mstatement\u001b[0m\u001b[0;34m,\u001b[0m \u001b[0mparameters\u001b[0m\u001b[0;34m,\u001b[0m \u001b[0mcontext\u001b[0m\u001b[0;34m\u001b[0m\u001b[0m\n\u001b[0m\u001b[1;32m   1278\u001b[0m                     )\n",
      "\u001b[0;32m~/opt/anaconda3/envs/Vis/lib/python3.7/site-packages/sqlalchemy/engine/default.py\u001b[0m in \u001b[0;36mdo_execute\u001b[0;34m(self, cursor, statement, parameters, context)\u001b[0m\n\u001b[1;32m    592\u001b[0m     \u001b[0;32mdef\u001b[0m \u001b[0mdo_execute\u001b[0m\u001b[0;34m(\u001b[0m\u001b[0mself\u001b[0m\u001b[0;34m,\u001b[0m \u001b[0mcursor\u001b[0m\u001b[0;34m,\u001b[0m \u001b[0mstatement\u001b[0m\u001b[0;34m,\u001b[0m \u001b[0mparameters\u001b[0m\u001b[0;34m,\u001b[0m \u001b[0mcontext\u001b[0m\u001b[0;34m=\u001b[0m\u001b[0;32mNone\u001b[0m\u001b[0;34m)\u001b[0m\u001b[0;34m:\u001b[0m\u001b[0;34m\u001b[0m\u001b[0m\n\u001b[0;32m--> 593\u001b[0;31m         \u001b[0mcursor\u001b[0m\u001b[0;34m.\u001b[0m\u001b[0mexecute\u001b[0m\u001b[0;34m(\u001b[0m\u001b[0mstatement\u001b[0m\u001b[0;34m,\u001b[0m \u001b[0mparameters\u001b[0m\u001b[0;34m)\u001b[0m\u001b[0;34m\u001b[0m\u001b[0m\n\u001b[0m\u001b[1;32m    594\u001b[0m \u001b[0;34m\u001b[0m\u001b[0m\n",
      "\u001b[0;31mOperationalError\u001b[0m: attempt to write a readonly database",
      "\nThe above exception was the direct cause of the following exception:\n",
      "\u001b[0;31mOperationalError\u001b[0m                          Traceback (most recent call last)",
      "\u001b[0;32m<ipython-input-110-ec506d9b352a>\u001b[0m in \u001b[0;36m<module>\u001b[0;34m\u001b[0m\n\u001b[0;32m----> 1\u001b[0;31m \u001b[0mSchema\u001b[0m\u001b[0;34m.\u001b[0m\u001b[0mquery\u001b[0m\u001b[0;34m.\u001b[0m\u001b[0mdelete\u001b[0m\u001b[0;34m(\u001b[0m\u001b[0;34m)\u001b[0m\u001b[0;34m\u001b[0m\u001b[0m\n\u001b[0m",
      "\u001b[0;32m~/opt/anaconda3/envs/Vis/lib/python3.7/site-packages/sqlalchemy/orm/query.py\u001b[0m in \u001b[0;36mdelete\u001b[0;34m(self, synchronize_session)\u001b[0m\n\u001b[1;32m   3897\u001b[0m \u001b[0;34m\u001b[0m\u001b[0m\n\u001b[1;32m   3898\u001b[0m         \u001b[0mdelete_op\u001b[0m \u001b[0;34m=\u001b[0m \u001b[0mpersistence\u001b[0m\u001b[0;34m.\u001b[0m\u001b[0mBulkDelete\u001b[0m\u001b[0;34m.\u001b[0m\u001b[0mfactory\u001b[0m\u001b[0;34m(\u001b[0m\u001b[0mself\u001b[0m\u001b[0;34m,\u001b[0m \u001b[0msynchronize_session\u001b[0m\u001b[0;34m)\u001b[0m\u001b[0;34m\u001b[0m\u001b[0m\n\u001b[0;32m-> 3899\u001b[0;31m         \u001b[0mdelete_op\u001b[0m\u001b[0;34m.\u001b[0m\u001b[0mexec_\u001b[0m\u001b[0;34m(\u001b[0m\u001b[0;34m)\u001b[0m\u001b[0;34m\u001b[0m\u001b[0m\n\u001b[0m\u001b[1;32m   3900\u001b[0m         \u001b[0;32mreturn\u001b[0m \u001b[0mdelete_op\u001b[0m\u001b[0;34m.\u001b[0m\u001b[0mrowcount\u001b[0m\u001b[0;34m\u001b[0m\u001b[0m\n\u001b[1;32m   3901\u001b[0m \u001b[0;34m\u001b[0m\u001b[0m\n",
      "\u001b[0;32m~/opt/anaconda3/envs/Vis/lib/python3.7/site-packages/sqlalchemy/orm/persistence.py\u001b[0m in \u001b[0;36mexec_\u001b[0;34m(self)\u001b[0m\n\u001b[1;32m   1695\u001b[0m         \u001b[0mself\u001b[0m\u001b[0;34m.\u001b[0m\u001b[0m_do_pre\u001b[0m\u001b[0;34m(\u001b[0m\u001b[0;34m)\u001b[0m\u001b[0;34m\u001b[0m\u001b[0m\n\u001b[1;32m   1696\u001b[0m         \u001b[0mself\u001b[0m\u001b[0;34m.\u001b[0m\u001b[0m_do_pre_synchronize\u001b[0m\u001b[0;34m(\u001b[0m\u001b[0;34m)\u001b[0m\u001b[0;34m\u001b[0m\u001b[0m\n\u001b[0;32m-> 1697\u001b[0;31m         \u001b[0mself\u001b[0m\u001b[0;34m.\u001b[0m\u001b[0m_do_exec\u001b[0m\u001b[0;34m(\u001b[0m\u001b[0;34m)\u001b[0m\u001b[0;34m\u001b[0m\u001b[0m\n\u001b[0m\u001b[1;32m   1698\u001b[0m         \u001b[0mself\u001b[0m\u001b[0;34m.\u001b[0m\u001b[0m_do_post_synchronize\u001b[0m\u001b[0;34m(\u001b[0m\u001b[0;34m)\u001b[0m\u001b[0;34m\u001b[0m\u001b[0m\n\u001b[1;32m   1699\u001b[0m         \u001b[0mself\u001b[0m\u001b[0;34m.\u001b[0m\u001b[0m_do_post\u001b[0m\u001b[0;34m(\u001b[0m\u001b[0;34m)\u001b[0m\u001b[0;34m\u001b[0m\u001b[0m\n",
      "\u001b[0;32m~/opt/anaconda3/envs/Vis/lib/python3.7/site-packages/sqlalchemy/orm/persistence.py\u001b[0m in \u001b[0;36m_do_exec\u001b[0;34m(self)\u001b[0m\n\u001b[1;32m   1926\u001b[0m         \u001b[0mdelete_stmt\u001b[0m \u001b[0;34m=\u001b[0m \u001b[0msql\u001b[0m\u001b[0;34m.\u001b[0m\u001b[0mdelete\u001b[0m\u001b[0;34m(\u001b[0m\u001b[0mself\u001b[0m\u001b[0;34m.\u001b[0m\u001b[0mprimary_table\u001b[0m\u001b[0;34m,\u001b[0m \u001b[0mself\u001b[0m\u001b[0;34m.\u001b[0m\u001b[0mcontext\u001b[0m\u001b[0;34m.\u001b[0m\u001b[0mwhereclause\u001b[0m\u001b[0;34m)\u001b[0m\u001b[0;34m\u001b[0m\u001b[0m\n\u001b[1;32m   1927\u001b[0m \u001b[0;34m\u001b[0m\u001b[0m\n\u001b[0;32m-> 1928\u001b[0;31m         \u001b[0mself\u001b[0m\u001b[0;34m.\u001b[0m\u001b[0m_execute_stmt\u001b[0m\u001b[0;34m(\u001b[0m\u001b[0mdelete_stmt\u001b[0m\u001b[0;34m)\u001b[0m\u001b[0;34m\u001b[0m\u001b[0m\n\u001b[0m\u001b[1;32m   1929\u001b[0m \u001b[0;34m\u001b[0m\u001b[0m\n\u001b[1;32m   1930\u001b[0m     \u001b[0;32mdef\u001b[0m \u001b[0m_do_post\u001b[0m\u001b[0;34m(\u001b[0m\u001b[0mself\u001b[0m\u001b[0;34m)\u001b[0m\u001b[0;34m:\u001b[0m\u001b[0;34m\u001b[0m\u001b[0m\n",
      "\u001b[0;32m~/opt/anaconda3/envs/Vis/lib/python3.7/site-packages/sqlalchemy/orm/persistence.py\u001b[0m in \u001b[0;36m_execute_stmt\u001b[0;34m(self, stmt)\u001b[0m\n\u001b[1;32m   1700\u001b[0m \u001b[0;34m\u001b[0m\u001b[0m\n\u001b[1;32m   1701\u001b[0m     \u001b[0;32mdef\u001b[0m \u001b[0m_execute_stmt\u001b[0m\u001b[0;34m(\u001b[0m\u001b[0mself\u001b[0m\u001b[0;34m,\u001b[0m \u001b[0mstmt\u001b[0m\u001b[0;34m)\u001b[0m\u001b[0;34m:\u001b[0m\u001b[0;34m\u001b[0m\u001b[0m\n\u001b[0;32m-> 1702\u001b[0;31m         \u001b[0mself\u001b[0m\u001b[0;34m.\u001b[0m\u001b[0mresult\u001b[0m \u001b[0;34m=\u001b[0m \u001b[0mself\u001b[0m\u001b[0;34m.\u001b[0m\u001b[0mquery\u001b[0m\u001b[0;34m.\u001b[0m\u001b[0m_execute_crud\u001b[0m\u001b[0;34m(\u001b[0m\u001b[0mstmt\u001b[0m\u001b[0;34m,\u001b[0m \u001b[0mself\u001b[0m\u001b[0;34m.\u001b[0m\u001b[0mmapper\u001b[0m\u001b[0;34m)\u001b[0m\u001b[0;34m\u001b[0m\u001b[0m\n\u001b[0m\u001b[1;32m   1703\u001b[0m         \u001b[0mself\u001b[0m\u001b[0;34m.\u001b[0m\u001b[0mrowcount\u001b[0m \u001b[0;34m=\u001b[0m \u001b[0mself\u001b[0m\u001b[0;34m.\u001b[0m\u001b[0mresult\u001b[0m\u001b[0;34m.\u001b[0m\u001b[0mrowcount\u001b[0m\u001b[0;34m\u001b[0m\u001b[0m\n\u001b[1;32m   1704\u001b[0m \u001b[0;34m\u001b[0m\u001b[0m\n",
      "\u001b[0;32m~/opt/anaconda3/envs/Vis/lib/python3.7/site-packages/sqlalchemy/orm/query.py\u001b[0m in \u001b[0;36m_execute_crud\u001b[0;34m(self, stmt, mapper)\u001b[0m\n\u001b[1;32m   3539\u001b[0m         )\n\u001b[1;32m   3540\u001b[0m \u001b[0;34m\u001b[0m\u001b[0m\n\u001b[0;32m-> 3541\u001b[0;31m         \u001b[0;32mreturn\u001b[0m \u001b[0mconn\u001b[0m\u001b[0;34m.\u001b[0m\u001b[0mexecute\u001b[0m\u001b[0;34m(\u001b[0m\u001b[0mstmt\u001b[0m\u001b[0;34m,\u001b[0m \u001b[0mself\u001b[0m\u001b[0;34m.\u001b[0m\u001b[0m_params\u001b[0m\u001b[0;34m)\u001b[0m\u001b[0;34m\u001b[0m\u001b[0m\n\u001b[0m\u001b[1;32m   3542\u001b[0m \u001b[0;34m\u001b[0m\u001b[0m\n\u001b[1;32m   3543\u001b[0m     \u001b[0;32mdef\u001b[0m \u001b[0m_get_bind_args\u001b[0m\u001b[0;34m(\u001b[0m\u001b[0mself\u001b[0m\u001b[0;34m,\u001b[0m \u001b[0mquerycontext\u001b[0m\u001b[0;34m,\u001b[0m \u001b[0mfn\u001b[0m\u001b[0;34m,\u001b[0m \u001b[0;34m**\u001b[0m\u001b[0mkw\u001b[0m\u001b[0;34m)\u001b[0m\u001b[0;34m:\u001b[0m\u001b[0;34m\u001b[0m\u001b[0m\n",
      "\u001b[0;32m~/opt/anaconda3/envs/Vis/lib/python3.7/site-packages/sqlalchemy/engine/base.py\u001b[0m in \u001b[0;36mexecute\u001b[0;34m(self, object_, *multiparams, **params)\u001b[0m\n\u001b[1;32m   1009\u001b[0m             )\n\u001b[1;32m   1010\u001b[0m         \u001b[0;32melse\u001b[0m\u001b[0;34m:\u001b[0m\u001b[0;34m\u001b[0m\u001b[0m\n\u001b[0;32m-> 1011\u001b[0;31m             \u001b[0;32mreturn\u001b[0m \u001b[0mmeth\u001b[0m\u001b[0;34m(\u001b[0m\u001b[0mself\u001b[0m\u001b[0;34m,\u001b[0m \u001b[0mmultiparams\u001b[0m\u001b[0;34m,\u001b[0m \u001b[0mparams\u001b[0m\u001b[0;34m)\u001b[0m\u001b[0;34m\u001b[0m\u001b[0m\n\u001b[0m\u001b[1;32m   1012\u001b[0m \u001b[0;34m\u001b[0m\u001b[0m\n\u001b[1;32m   1013\u001b[0m     \u001b[0;32mdef\u001b[0m \u001b[0m_execute_function\u001b[0m\u001b[0;34m(\u001b[0m\u001b[0mself\u001b[0m\u001b[0;34m,\u001b[0m \u001b[0mfunc\u001b[0m\u001b[0;34m,\u001b[0m \u001b[0mmultiparams\u001b[0m\u001b[0;34m,\u001b[0m \u001b[0mparams\u001b[0m\u001b[0;34m)\u001b[0m\u001b[0;34m:\u001b[0m\u001b[0;34m\u001b[0m\u001b[0m\n",
      "\u001b[0;32m~/opt/anaconda3/envs/Vis/lib/python3.7/site-packages/sqlalchemy/sql/elements.py\u001b[0m in \u001b[0;36m_execute_on_connection\u001b[0;34m(self, connection, multiparams, params)\u001b[0m\n\u001b[1;32m    296\u001b[0m     \u001b[0;32mdef\u001b[0m \u001b[0m_execute_on_connection\u001b[0m\u001b[0;34m(\u001b[0m\u001b[0mself\u001b[0m\u001b[0;34m,\u001b[0m \u001b[0mconnection\u001b[0m\u001b[0;34m,\u001b[0m \u001b[0mmultiparams\u001b[0m\u001b[0;34m,\u001b[0m \u001b[0mparams\u001b[0m\u001b[0;34m)\u001b[0m\u001b[0;34m:\u001b[0m\u001b[0;34m\u001b[0m\u001b[0m\n\u001b[1;32m    297\u001b[0m         \u001b[0;32mif\u001b[0m \u001b[0mself\u001b[0m\u001b[0;34m.\u001b[0m\u001b[0msupports_execution\u001b[0m\u001b[0;34m:\u001b[0m\u001b[0;34m\u001b[0m\u001b[0m\n\u001b[0;32m--> 298\u001b[0;31m             \u001b[0;32mreturn\u001b[0m \u001b[0mconnection\u001b[0m\u001b[0;34m.\u001b[0m\u001b[0m_execute_clauseelement\u001b[0m\u001b[0;34m(\u001b[0m\u001b[0mself\u001b[0m\u001b[0;34m,\u001b[0m \u001b[0mmultiparams\u001b[0m\u001b[0;34m,\u001b[0m \u001b[0mparams\u001b[0m\u001b[0;34m)\u001b[0m\u001b[0;34m\u001b[0m\u001b[0m\n\u001b[0m\u001b[1;32m    299\u001b[0m         \u001b[0;32melse\u001b[0m\u001b[0;34m:\u001b[0m\u001b[0;34m\u001b[0m\u001b[0m\n\u001b[1;32m    300\u001b[0m             \u001b[0;32mraise\u001b[0m \u001b[0mexc\u001b[0m\u001b[0;34m.\u001b[0m\u001b[0mObjectNotExecutableError\u001b[0m\u001b[0;34m(\u001b[0m\u001b[0mself\u001b[0m\u001b[0;34m)\u001b[0m\u001b[0;34m\u001b[0m\u001b[0m\n",
      "\u001b[0;32m~/opt/anaconda3/envs/Vis/lib/python3.7/site-packages/sqlalchemy/engine/base.py\u001b[0m in \u001b[0;36m_execute_clauseelement\u001b[0;34m(self, elem, multiparams, params)\u001b[0m\n\u001b[1;32m   1128\u001b[0m             \u001b[0mdistilled_params\u001b[0m\u001b[0;34m,\u001b[0m\u001b[0;34m\u001b[0m\u001b[0m\n\u001b[1;32m   1129\u001b[0m             \u001b[0mcompiled_sql\u001b[0m\u001b[0;34m,\u001b[0m\u001b[0;34m\u001b[0m\u001b[0m\n\u001b[0;32m-> 1130\u001b[0;31m             \u001b[0mdistilled_params\u001b[0m\u001b[0;34m,\u001b[0m\u001b[0;34m\u001b[0m\u001b[0m\n\u001b[0m\u001b[1;32m   1131\u001b[0m         )\n\u001b[1;32m   1132\u001b[0m         \u001b[0;32mif\u001b[0m \u001b[0mself\u001b[0m\u001b[0;34m.\u001b[0m\u001b[0m_has_events\u001b[0m \u001b[0;32mor\u001b[0m \u001b[0mself\u001b[0m\u001b[0;34m.\u001b[0m\u001b[0mengine\u001b[0m\u001b[0;34m.\u001b[0m\u001b[0m_has_events\u001b[0m\u001b[0;34m:\u001b[0m\u001b[0;34m\u001b[0m\u001b[0m\n",
      "\u001b[0;32m~/opt/anaconda3/envs/Vis/lib/python3.7/site-packages/sqlalchemy/engine/base.py\u001b[0m in \u001b[0;36m_execute_context\u001b[0;34m(self, dialect, constructor, statement, parameters, *args)\u001b[0m\n\u001b[1;32m   1315\u001b[0m         \u001b[0;32mexcept\u001b[0m \u001b[0mBaseException\u001b[0m \u001b[0;32mas\u001b[0m \u001b[0me\u001b[0m\u001b[0;34m:\u001b[0m\u001b[0;34m\u001b[0m\u001b[0m\n\u001b[1;32m   1316\u001b[0m             self._handle_dbapi_exception(\n\u001b[0;32m-> 1317\u001b[0;31m                 \u001b[0me\u001b[0m\u001b[0;34m,\u001b[0m \u001b[0mstatement\u001b[0m\u001b[0;34m,\u001b[0m \u001b[0mparameters\u001b[0m\u001b[0;34m,\u001b[0m \u001b[0mcursor\u001b[0m\u001b[0;34m,\u001b[0m \u001b[0mcontext\u001b[0m\u001b[0;34m\u001b[0m\u001b[0m\n\u001b[0m\u001b[1;32m   1318\u001b[0m             )\n\u001b[1;32m   1319\u001b[0m \u001b[0;34m\u001b[0m\u001b[0m\n",
      "\u001b[0;32m~/opt/anaconda3/envs/Vis/lib/python3.7/site-packages/sqlalchemy/engine/base.py\u001b[0m in \u001b[0;36m_handle_dbapi_exception\u001b[0;34m(self, e, statement, parameters, cursor, context)\u001b[0m\n\u001b[1;32m   1509\u001b[0m             \u001b[0;32melif\u001b[0m \u001b[0mshould_wrap\u001b[0m\u001b[0;34m:\u001b[0m\u001b[0;34m\u001b[0m\u001b[0m\n\u001b[1;32m   1510\u001b[0m                 util.raise_(\n\u001b[0;32m-> 1511\u001b[0;31m                     \u001b[0msqlalchemy_exception\u001b[0m\u001b[0;34m,\u001b[0m \u001b[0mwith_traceback\u001b[0m\u001b[0;34m=\u001b[0m\u001b[0mexc_info\u001b[0m\u001b[0;34m[\u001b[0m\u001b[0;36m2\u001b[0m\u001b[0;34m]\u001b[0m\u001b[0;34m,\u001b[0m \u001b[0mfrom_\u001b[0m\u001b[0;34m=\u001b[0m\u001b[0me\u001b[0m\u001b[0;34m\u001b[0m\u001b[0m\n\u001b[0m\u001b[1;32m   1512\u001b[0m                 )\n\u001b[1;32m   1513\u001b[0m             \u001b[0;32melse\u001b[0m\u001b[0;34m:\u001b[0m\u001b[0;34m\u001b[0m\u001b[0m\n",
      "\u001b[0;32m~/opt/anaconda3/envs/Vis/lib/python3.7/site-packages/sqlalchemy/util/compat.py\u001b[0m in \u001b[0;36mraise_\u001b[0;34m(***failed resolving arguments***)\u001b[0m\n\u001b[1;32m    180\u001b[0m \u001b[0;34m\u001b[0m\u001b[0m\n\u001b[1;32m    181\u001b[0m         \u001b[0;32mtry\u001b[0m\u001b[0;34m:\u001b[0m\u001b[0;34m\u001b[0m\u001b[0m\n\u001b[0;32m--> 182\u001b[0;31m             \u001b[0;32mraise\u001b[0m \u001b[0mexception\u001b[0m\u001b[0;34m\u001b[0m\u001b[0m\n\u001b[0m\u001b[1;32m    183\u001b[0m         \u001b[0;32mfinally\u001b[0m\u001b[0;34m:\u001b[0m\u001b[0;34m\u001b[0m\u001b[0m\n\u001b[1;32m    184\u001b[0m             \u001b[0;31m# credit to\u001b[0m\u001b[0;34m\u001b[0m\u001b[0;34m\u001b[0m\u001b[0m\n",
      "\u001b[0;32m~/opt/anaconda3/envs/Vis/lib/python3.7/site-packages/sqlalchemy/engine/base.py\u001b[0m in \u001b[0;36m_execute_context\u001b[0;34m(self, dialect, constructor, statement, parameters, *args)\u001b[0m\n\u001b[1;32m   1275\u001b[0m                 \u001b[0;32mif\u001b[0m \u001b[0;32mnot\u001b[0m \u001b[0mevt_handled\u001b[0m\u001b[0;34m:\u001b[0m\u001b[0;34m\u001b[0m\u001b[0m\n\u001b[1;32m   1276\u001b[0m                     self.dialect.do_execute(\n\u001b[0;32m-> 1277\u001b[0;31m                         \u001b[0mcursor\u001b[0m\u001b[0;34m,\u001b[0m \u001b[0mstatement\u001b[0m\u001b[0;34m,\u001b[0m \u001b[0mparameters\u001b[0m\u001b[0;34m,\u001b[0m \u001b[0mcontext\u001b[0m\u001b[0;34m\u001b[0m\u001b[0m\n\u001b[0m\u001b[1;32m   1278\u001b[0m                     )\n\u001b[1;32m   1279\u001b[0m \u001b[0;34m\u001b[0m\u001b[0m\n",
      "\u001b[0;32m~/opt/anaconda3/envs/Vis/lib/python3.7/site-packages/sqlalchemy/engine/default.py\u001b[0m in \u001b[0;36mdo_execute\u001b[0;34m(self, cursor, statement, parameters, context)\u001b[0m\n\u001b[1;32m    591\u001b[0m \u001b[0;34m\u001b[0m\u001b[0m\n\u001b[1;32m    592\u001b[0m     \u001b[0;32mdef\u001b[0m \u001b[0mdo_execute\u001b[0m\u001b[0;34m(\u001b[0m\u001b[0mself\u001b[0m\u001b[0;34m,\u001b[0m \u001b[0mcursor\u001b[0m\u001b[0;34m,\u001b[0m \u001b[0mstatement\u001b[0m\u001b[0;34m,\u001b[0m \u001b[0mparameters\u001b[0m\u001b[0;34m,\u001b[0m \u001b[0mcontext\u001b[0m\u001b[0;34m=\u001b[0m\u001b[0;32mNone\u001b[0m\u001b[0;34m)\u001b[0m\u001b[0;34m:\u001b[0m\u001b[0;34m\u001b[0m\u001b[0m\n\u001b[0;32m--> 593\u001b[0;31m         \u001b[0mcursor\u001b[0m\u001b[0;34m.\u001b[0m\u001b[0mexecute\u001b[0m\u001b[0;34m(\u001b[0m\u001b[0mstatement\u001b[0m\u001b[0;34m,\u001b[0m \u001b[0mparameters\u001b[0m\u001b[0;34m)\u001b[0m\u001b[0;34m\u001b[0m\u001b[0m\n\u001b[0m\u001b[1;32m    594\u001b[0m \u001b[0;34m\u001b[0m\u001b[0m\n\u001b[1;32m    595\u001b[0m     \u001b[0;32mdef\u001b[0m \u001b[0mdo_execute_no_params\u001b[0m\u001b[0;34m(\u001b[0m\u001b[0mself\u001b[0m\u001b[0;34m,\u001b[0m \u001b[0mcursor\u001b[0m\u001b[0;34m,\u001b[0m \u001b[0mstatement\u001b[0m\u001b[0;34m,\u001b[0m \u001b[0mcontext\u001b[0m\u001b[0;34m=\u001b[0m\u001b[0;32mNone\u001b[0m\u001b[0;34m)\u001b[0m\u001b[0;34m:\u001b[0m\u001b[0;34m\u001b[0m\u001b[0m\n",
      "\u001b[0;31mOperationalError\u001b[0m: (sqlite3.OperationalError) attempt to write a readonly database\n[SQL: DELETE FROM schema]\n(Background on this error at: http://sqlalche.me/e/13/e3q8)"
     ]
    }
   ],
   "source": [
    "Schema.query.delete()"
   ]
  },
  {
   "cell_type": "code",
   "execution_count": 116,
   "metadata": {},
   "outputs": [],
   "source": [
    "from doc_anno_suite.annotations.dbutils import AnnotationUtil, DatabaseCRUD"
   ]
  },
  {
   "cell_type": "code",
   "execution_count": 118,
   "metadata": {},
   "outputs": [],
   "source": [
    "labels = DatabaseCRUD.get_label_schemas([4])"
   ]
  },
  {
   "cell_type": "code",
   "execution_count": 123,
   "metadata": {},
   "outputs": [
    {
     "data": {
      "text/plain": [
       "False"
      ]
     },
     "execution_count": 123,
     "metadata": {},
     "output_type": "execute_result"
    }
   ],
   "source": [
    "labels[0].label_placeholder == ''"
   ]
  },
  {
   "cell_type": "code",
   "execution_count": 2,
   "metadata": {},
   "outputs": [
    {
     "data": {
      "text/plain": [
       "[Schema('Encoding/Rendering techiques', 'lab_1'),\n",
       " Schema('Bar chart', 'lab_2'),\n",
       " Schema('Point chart', 'lab_3'),\n",
       " Schema('Surface * Volumes', 'lab_9'),\n",
       " Schema('Encoding comments', 'lab_4'),\n",
       " Schema('Hardness', 'lab_5'),\n",
       " Schema('Easy', 'lab_6'),\n",
       " Schema('Neutral', 'lab_7'),\n",
       " Schema('Hard', 'lab_8'),\n",
       " Schema('Dimensionality', 'lab_10'),\n",
       " Schema('2D', 'lab_11'),\n",
       " Schema('3D', 'lab_12'),\n",
       " Schema('I cannot tell', 'lab_13'),\n",
       " Schema('Notes', 'lab_14'),\n",
       " Schema('Note Text', 'labl_15')]"
      ]
     },
     "execution_count": 2,
     "metadata": {},
     "output_type": "execute_result"
    }
   ],
   "source": [
    "Schema.query.all()"
   ]
  },
  {
   "cell_type": "code",
   "execution_count": 18,
   "metadata": {},
   "outputs": [],
   "source": [
    "labels = Schema.query.all()\n",
    "label_instances = Schema.query.with_entities(Schema.label_id, Schema.label_type, Schema.label_parent, \\\n",
    "    Schema.label_name, Schema.label_abbr, Schema.label_isrequired, Schema.label_icon_url).all()\n",
    "label_dict = {label[0] : {'label_type': label[1], 'label_parent': label[2], \\\n",
    "    'label_name': label[3], 'label_abbr': label[4], 'label_isrequired': label[5], 'label_icon_url':label[6]}  for label in label_instances}\n",
    "category_dic = {}\n",
    "for label in labels:\n",
    "    if (label.label_parent == 'root') and (int(label.label_isrequired) == 1):\n",
    "        category_dic[label.label_id] = []\n",
    "for label in labels:\n",
    "    if (label.label_parent != 'root') and (label.label_parent in category_dic):\n",
    "        category_dic[label.label_parent].append(label.label_id)\n",
    "\n",
    "sql = \"SELECT image_id FROM annotation WHERE \"\n",
    "for category in category_dic:\n",
    "    #sql += ' AND ('\n",
    "    label_list = category_dic[category]\n",
    "    for i in range(len(label_list)):\n",
    "        label_id = label_list[i]\n",
    "        if(int(label_dict[label_id]['label_type']) == 1):\n",
    "            if(i == 0):\n",
    "                sql = sql + label_id + \" = 0\"\n",
    "            else:\n",
    "                sql = sql + ' AND ' + label_id + \" = 0\"\n",
    "        elif(int(label_dict[label_id]['label_type']) == 2):\n",
    "            if(i == 0):\n",
    "                sql = sql + label_dict[label_id]['label_parent'] +\\\n",
    "                    \" = \\'\\'\"\n",
    "            else:\n",
    "                sql = sql + ' AND ' + label_dict[label_id]['label_parent'] +\\\n",
    "                    \" = \\'\\'\"\n",
    "        elif(int(label_dict[label_id]['label_type']) == 3):\n",
    "            if(i == 0):\n",
    "                sql = sql + 'annotation.' + label_id + \" == \\'\\'\"\n",
    "            else:\n",
    "                sql = sql + ' AND ' + label_id + \" == \\'\\'\""
   ]
  },
  {
   "cell_type": "code",
   "execution_count": 20,
   "metadata": {},
   "outputs": [
    {
     "data": {
      "text/plain": [
       "\"SELECT image_id FROM annotation WHERE lab_2 = 0 AND lab_3 = 0 AND lab_9 = 0 AND lab_4 == ''\""
      ]
     },
     "execution_count": 20,
     "metadata": {},
     "output_type": "execute_result"
    }
   ],
   "source": [
    "sql"
   ]
  },
  {
   "cell_type": "code",
   "execution_count": 33,
   "metadata": {},
   "outputs": [],
   "source": [
    "sql = \"SELECT image_id, username FROM annotation WHERE lab_2 = 1 AND lab_3 = 1 and image_id in ('I1')\""
   ]
  },
  {
   "cell_type": "code",
   "execution_count": 34,
   "metadata": {},
   "outputs": [],
   "source": [
    "res = DatabaseCRUD.get_annotation_by_query_condition(sql)"
   ]
  },
  {
   "cell_type": "code",
   "execution_count": 35,
   "metadata": {},
   "outputs": [
    {
     "data": {
      "text/plain": [
       "[{'image_id': 'I1', 'username': 'JC'}]"
      ]
     },
     "execution_count": 35,
     "metadata": {},
     "output_type": "execute_result"
    }
   ],
   "source": [
    "res"
   ]
  },
  {
   "cell_type": "code",
   "execution_count": 29,
   "metadata": {},
   "outputs": [],
   "source": [
    "user_images_dic = {}\n",
    "for record in res:\n",
    "    if record['username'] in user_images_dic:\n",
    "        user_images_dic[record['username']].append(record['image_id'])\n",
    "    else:\n",
    "        user_images_dic[record['username']] = [record['image_id']]"
   ]
  },
  {
   "cell_type": "code",
   "execution_count": 43,
   "metadata": {},
   "outputs": [
    {
     "data": {
      "text/plain": [
       "{'RL': ['I2'], 'JC': ['I2', 'I3', 'I1']}"
      ]
     },
     "execution_count": 43,
     "metadata": {},
     "output_type": "execute_result"
    }
   ],
   "source": [
    "user_images_dic"
   ]
  },
  {
   "cell_type": "code",
   "execution_count": 44,
   "metadata": {},
   "outputs": [
    {
     "name": "stdout",
     "output_type": "stream",
     "text": [
      "0 RL\n",
      "1 JC\n"
     ]
    }
   ],
   "source": [
    "for index, key in enumerate(user_images_dic):\n",
    "    print(index,key)"
   ]
  },
  {
   "cell_type": "code",
   "execution_count": 26,
   "metadata": {},
   "outputs": [],
   "source": [
    "users = User.query.all()"
   ]
  },
  {
   "cell_type": "code",
   "execution_count": 36,
   "metadata": {},
   "outputs": [
    {
     "name": "stdout",
     "output_type": "stream",
     "text": [
      "I2\n",
      "I1\n"
     ]
    }
   ],
   "source": [
    "for user in users:\n",
    "    username = user.username\n",
    "    image_list = user_images_dic[username]\n",
    "    assignment = user.assignment.split(';')\n",
    "    if(len(assignment) != 0):\n",
    "        for i in range(len(assignment[i])):\n",
    "            image_id = assignment[i]\n",
    "            if(image_id in image_list):\n",
    "                user.anno_index = i\n",
    "                break"
   ]
  },
  {
   "cell_type": "code",
   "execution_count": 40,
   "metadata": {},
   "outputs": [
    {
     "data": {
      "text/html": [
       "<div>\n",
       "<style scoped>\n",
       "    .dataframe tbody tr th:only-of-type {\n",
       "        vertical-align: middle;\n",
       "    }\n",
       "\n",
       "    .dataframe tbody tr th {\n",
       "        vertical-align: top;\n",
       "    }\n",
       "\n",
       "    .dataframe thead th {\n",
       "        text-align: right;\n",
       "    }\n",
       "</style>\n",
       "<table border=\"1\" class=\"dataframe\">\n",
       "  <thead>\n",
       "    <tr style=\"text-align: right;\">\n",
       "      <th></th>\n",
       "      <th>M_username</th>\n",
       "      <th>M_assignment_by_image_id</th>\n",
       "    </tr>\n",
       "  </thead>\n",
       "  <tbody>\n",
       "    <tr>\n",
       "      <th>0</th>\n",
       "      <td>JC</td>\n",
       "      <td>I1;I2;I3</td>\n",
       "    </tr>\n",
       "    <tr>\n",
       "      <th>1</th>\n",
       "      <td>RL</td>\n",
       "      <td>I2;I3;I1</td>\n",
       "    </tr>\n",
       "  </tbody>\n",
       "</table>\n",
       "</div>"
      ],
      "text/plain": [
       "  M_username M_assignment_by_image_id\n",
       "0         JC                 I1;I2;I3\n",
       "1         RL                 I2;I3;I1"
      ]
     },
     "execution_count": 40,
     "metadata": {},
     "output_type": "execute_result"
    }
   ],
   "source": [
    "user_data = pd.read_csv('dummy data/example_1/users.csv', encoding = 'utf-8')\n",
    "user_data"
   ]
  },
  {
   "cell_type": "code",
   "execution_count": 41,
   "metadata": {},
   "outputs": [],
   "source": [
    "user_data['anno_index'] = 0"
   ]
  },
  {
   "cell_type": "code",
   "execution_count": 42,
   "metadata": {},
   "outputs": [
    {
     "data": {
      "text/html": [
       "<div>\n",
       "<style scoped>\n",
       "    .dataframe tbody tr th:only-of-type {\n",
       "        vertical-align: middle;\n",
       "    }\n",
       "\n",
       "    .dataframe tbody tr th {\n",
       "        vertical-align: top;\n",
       "    }\n",
       "\n",
       "    .dataframe thead th {\n",
       "        text-align: right;\n",
       "    }\n",
       "</style>\n",
       "<table border=\"1\" class=\"dataframe\">\n",
       "  <thead>\n",
       "    <tr style=\"text-align: right;\">\n",
       "      <th></th>\n",
       "      <th>M_username</th>\n",
       "      <th>M_assignment_by_image_id</th>\n",
       "      <th>anno_index</th>\n",
       "    </tr>\n",
       "  </thead>\n",
       "  <tbody>\n",
       "    <tr>\n",
       "      <th>0</th>\n",
       "      <td>JC</td>\n",
       "      <td>I1;I2;I3</td>\n",
       "      <td>0</td>\n",
       "    </tr>\n",
       "    <tr>\n",
       "      <th>1</th>\n",
       "      <td>RL</td>\n",
       "      <td>I2;I3;I1</td>\n",
       "      <td>0</td>\n",
       "    </tr>\n",
       "  </tbody>\n",
       "</table>\n",
       "</div>"
      ],
      "text/plain": [
       "  M_username M_assignment_by_image_id  anno_index\n",
       "0         JC                 I1;I2;I3           0\n",
       "1         RL                 I2;I3;I1           0"
      ]
     },
     "execution_count": 42,
     "metadata": {},
     "output_type": "execute_result"
    }
   ],
   "source": [
    "user_data"
   ]
  },
  {
   "cell_type": "code",
   "execution_count": 3,
   "metadata": {},
   "outputs": [
    {
     "data": {
      "text/plain": [
       "True"
      ]
     },
     "execution_count": 3,
     "metadata": {},
     "output_type": "execute_result"
    }
   ],
   "source": [
    "not User.query.filter_by(is_admin=0).first()"
   ]
  },
  {
   "cell_type": "code",
   "execution_count": 2,
   "metadata": {},
   "outputs": [
    {
     "data": {
      "text/plain": [
       "''"
      ]
     },
     "execution_count": 2,
     "metadata": {},
     "output_type": "execute_result"
    }
   ],
   "source": [
    "'; '.join([])"
   ]
  },
  {
   "cell_type": "code",
   "execution_count": 6,
   "metadata": {},
   "outputs": [],
   "source": [
    "server_progress = [0]"
   ]
  },
  {
   "cell_type": "code",
   "execution_count": 3,
   "metadata": {},
   "outputs": [],
   "source": [
    "schema_data = pd.read_csv('dummy data/test case/label_schema.csv', encoding = 'utf-8')"
   ]
  },
  {
   "cell_type": "code",
   "execution_count": 10,
   "metadata": {},
   "outputs": [
    {
     "data": {
      "text/plain": [
       "'BCR'"
      ]
     },
     "execution_count": 10,
     "metadata": {},
     "output_type": "execute_result"
    }
   ],
   "source": [
    "schema_data.at[1,'M_label_abbr'].upper()"
   ]
  },
  {
   "cell_type": "code",
   "execution_count": 23,
   "metadata": {},
   "outputs": [],
   "source": [
    "class Utils():\n",
    "\n",
    "    @staticmethod\n",
    "    def createTableDicByData(dicID, data):\n",
    "        dataDic = {}\n",
    "        column_list = data.columns.values.tolist()\n",
    "        for i in range(len(data)):\n",
    "            dataID = str(data.loc[i,dicID])\n",
    "            if(dataID in dataDic):\n",
    "                dataInfo = {}\n",
    "                for key in column_list:\n",
    "                    dataInfo[key] = data.loc[i,key]\n",
    "                dataDic[dataID].append(dataInfo)\n",
    "            else:\n",
    "                dataInfo = {}\n",
    "                for key in column_list:\n",
    "                    dataInfo[key] = data.loc[i,key]\n",
    "                dataDic[dataID] = [dataInfo]\n",
    "        return dataDic \n",
    "\n",
    "    @staticmethod\n",
    "    def createTableDicTwoByData(dicID1, dicID2, data):\n",
    "        dataDic = {}\n",
    "        column_list = data.columns.values.tolist()\n",
    "        for i in range(len(data)):\n",
    "            dataID1 = data.loc[i,dicID1]\n",
    "            dataID2 = data.loc[i,dicID2]\n",
    "            dataID = str(dataID1) + '-' + str(dataID2)\n",
    "            if(dataID in dataDic):\n",
    "                dataInfo = {}\n",
    "                for key in column_list:\n",
    "                    dataInfo[key] = data.loc[i,key]\n",
    "                dataDic[dataID].append(dataInfo)\n",
    "            else:\n",
    "                dataInfo = {}\n",
    "                for key in column_list:\n",
    "                    dataInfo[key] = data.loc[i,key]\n",
    "                dataDic[dataID] = [dataInfo]\n",
    "        return dataDic \n",
    "\n",
    "    \n",
    "def create_schema_dic_by_names(data, schema_dic):\n",
    "    dataDic = {}\n",
    "    column_list = data.columns.values.tolist()\n",
    "    for i in range(len(data)):\n",
    "        dataID1 = data.at[i,'M_label_name']\n",
    "        dataID2 = data.at[i,'M_label_parent']\n",
    "        if(dataID2 in schema_dic):\n",
    "            dataID2 = schema_dic[dataID2][0]['M_label_name']\n",
    "        dataID = str(dataID2) + '-' + str(dataID1)\n",
    "        if(dataID in dataDic):\n",
    "            dataInfo = {}\n",
    "            for key in column_list:\n",
    "                dataInfo[key] = data.loc[i,key]\n",
    "            dataDic[dataID].append(dataInfo)\n",
    "        else:\n",
    "            dataInfo = {}\n",
    "            for key in column_list:\n",
    "                dataInfo[key] = data.loc[i,key]\n",
    "            dataDic[dataID] = [dataInfo]\n",
    "    return dataDic "
   ]
  },
  {
   "cell_type": "code",
   "execution_count": 24,
   "metadata": {},
   "outputs": [
    {
     "data": {
      "text/plain": [
       "{'root-Encoding / rendering technique': [{'M_label_id': 'lab_0',\n",
       "   'M_label_name': 'Encoding / rendering technique',\n",
       "   'M_label_type': 0,\n",
       "   'M_label_parent': 'root',\n",
       "   'M_label_abbr': 'Encoding',\n",
       "   'O_label_bbox': 0,\n",
       "   'O_label_required': 1,\n",
       "   'O_label_placeholder': nan,\n",
       "   'O_label_icon': nan}],\n",
       " 'Encoding / rendering technique-Generalized Bar Chart': [{'M_label_id': 'lab_1',\n",
       "   'M_label_name': 'Generalized Bar Chart',\n",
       "   'M_label_type': 1,\n",
       "   'M_label_parent': 'lab_0',\n",
       "   'M_label_abbr': 'Bar',\n",
       "   'O_label_bbox': 1,\n",
       "   'O_label_required': 0,\n",
       "   'O_label_placeholder': nan,\n",
       "   'O_label_icon': '../static/images/customized_icons/bar-0.png'}],\n",
       " 'Encoding / rendering technique-Point-based Techniques': [{'M_label_id': 'lab_2',\n",
       "   'M_label_name': 'Point-based Techniques',\n",
       "   'M_label_type': 1,\n",
       "   'M_label_parent': 'lab_0',\n",
       "   'M_label_abbr': 'Point',\n",
       "   'O_label_bbox': 1,\n",
       "   'O_label_required': 0,\n",
       "   'O_label_placeholder': nan,\n",
       "   'O_label_icon': '../static/images/customized_icons/scatter-0.png'}],\n",
       " 'Encoding / rendering technique-Line-based Visualization': [{'M_label_id': 'lab_3',\n",
       "   'M_label_name': 'Line-based Visualization',\n",
       "   'M_label_type': 1,\n",
       "   'M_label_parent': 'lab_0',\n",
       "   'M_label_abbr': 'Line',\n",
       "   'O_label_bbox': 1,\n",
       "   'O_label_required': 0,\n",
       "   'O_label_placeholder': nan,\n",
       "   'O_label_icon': '../static/images/customized_icons/line-0.png'}],\n",
       " 'Encoding / rendering technique-Node-link Trees/Graphs, and Networks, Meshes': [{'M_label_id': 'lab_4',\n",
       "   'M_label_name': 'Node-link Trees/Graphs, and Networks, Meshes',\n",
       "   'M_label_type': 1,\n",
       "   'M_label_parent': 'lab_0',\n",
       "   'M_label_abbr': 'Node-link',\n",
       "   'O_label_bbox': 1,\n",
       "   'O_label_required': 0,\n",
       "   'O_label_placeholder': nan,\n",
       "   'O_label_icon': '../static/images/customized_icons/nodelinkcir-0.png'}],\n",
       " 'Encoding / rendering technique-Generalized Area Chart': [{'M_label_id': 'lab_5',\n",
       "   'M_label_name': 'Generalized Area Chart',\n",
       "   'M_label_type': 1,\n",
       "   'M_label_parent': 'lab_0',\n",
       "   'M_label_abbr': 'Area',\n",
       "   'O_label_bbox': 1,\n",
       "   'O_label_required': 0,\n",
       "   'O_label_placeholder': nan,\n",
       "   'O_label_icon': '../static/images/customized_icons/area-0.png'}],\n",
       " 'Encoding / rendering technique-Surface-based Techniques & Volumes': [{'M_label_id': 'lab_6',\n",
       "   'M_label_name': 'Surface-based Techniques & Volumes',\n",
       "   'M_label_type': 1,\n",
       "   'M_label_parent': 'lab_0',\n",
       "   'M_label_abbr': 'Surface/Volume',\n",
       "   'O_label_bbox': 1,\n",
       "   'O_label_required': 0,\n",
       "   'O_label_placeholder': nan,\n",
       "   'O_label_icon': '../static/images/customized_icons/surface-0.png'}],\n",
       " 'Encoding / rendering technique-Generalized Matrix / Grid': [{'M_label_id': 'lab_7',\n",
       "   'M_label_name': 'Generalized Matrix / Grid',\n",
       "   'M_label_type': 1,\n",
       "   'M_label_parent': 'lab_0',\n",
       "   'M_label_abbr': 'Grid',\n",
       "   'O_label_bbox': 1,\n",
       "   'O_label_required': 0,\n",
       "   'O_label_placeholder': nan,\n",
       "   'O_label_icon': '../static/images/customized_icons/matrix-0.png'}],\n",
       " 'Encoding / rendering technique-Glyph-based Techniques': [{'M_label_id': 'lab_8',\n",
       "   'M_label_name': 'Glyph-based Techniques',\n",
       "   'M_label_type': 1,\n",
       "   'M_label_parent': 'lab_0',\n",
       "   'M_label_abbr': 'Glyph',\n",
       "   'O_label_bbox': 1,\n",
       "   'O_label_required': 0,\n",
       "   'O_label_placeholder': nan,\n",
       "   'O_label_icon': '../static/images/customized_icons/glyph-0.png'}],\n",
       " 'Encoding / rendering technique-Schematic rep., sche. imgs., sche. concept illu.': [{'M_label_id': 'lab_9',\n",
       "   'M_label_name': 'Schematic rep., sche. imgs., sche. concept illu.',\n",
       "   'M_label_type': 1,\n",
       "   'M_label_parent': 'lab_0',\n",
       "   'M_label_abbr': 'Schematic',\n",
       "   'O_label_bbox': 1,\n",
       "   'O_label_required': 0,\n",
       "   'O_label_placeholder': nan,\n",
       "   'O_label_icon': '../static/images/customized_icons/flowchart-0.png'}],\n",
       " 'Encoding / rendering technique-GUI (Screenshots) / User Interface Depiction': [{'M_label_id': 'lab_10',\n",
       "   'M_label_name': 'GUI (Screenshots) / User Interface Depiction',\n",
       "   'M_label_type': 1,\n",
       "   'M_label_parent': 'lab_0',\n",
       "   'M_label_abbr': 'GUI',\n",
       "   'O_label_bbox': 1,\n",
       "   'O_label_required': 0,\n",
       "   'O_label_placeholder': nan,\n",
       "   'O_label_icon': '../static/images/customized_icons/GUI-0.png'}],\n",
       " 'Encoding / rendering technique-Continuous-pattern-based Visualization': [{'M_label_id': 'lab_11',\n",
       "   'M_label_name': 'Continuous-pattern-based Visualization',\n",
       "   'M_label_type': 1,\n",
       "   'M_label_parent': 'lab_0',\n",
       "   'M_label_abbr': 'Pattern',\n",
       "   'O_label_bbox': 1,\n",
       "   'O_label_required': 0,\n",
       "   'O_label_placeholder': nan,\n",
       "   'O_label_icon': '../static/images/customized_icons/continuous-0.png'}],\n",
       " 'Encoding / rendering technique-Text-based Encoding': [{'M_label_id': 'lab_12',\n",
       "   'M_label_name': 'Text-based Encoding',\n",
       "   'M_label_type': 1,\n",
       "   'M_label_parent': 'lab_0',\n",
       "   'M_label_abbr': 'Text',\n",
       "   'O_label_bbox': 1,\n",
       "   'O_label_required': 0,\n",
       "   'O_label_placeholder': nan,\n",
       "   'O_label_icon': '../static/images/customized_icons/text-0.png'}],\n",
       " 'Encoding / rendering technique-Continuous color-based encoding': [{'M_label_id': 'lab_13',\n",
       "   'M_label_name': 'Continuous color-based encoding',\n",
       "   'M_label_type': 1,\n",
       "   'M_label_parent': 'lab_0',\n",
       "   'M_label_abbr': 'Color',\n",
       "   'O_label_bbox': 1,\n",
       "   'O_label_required': 0,\n",
       "   'O_label_placeholder': nan,\n",
       "   'O_label_icon': '../static/images/customized_icons/color-0.png'}],\n",
       " 'Encoding / rendering technique-I cannot tell': [{'M_label_id': 'lab_14',\n",
       "   'M_label_name': 'I cannot tell',\n",
       "   'M_label_type': 1,\n",
       "   'M_label_parent': 'lab_0',\n",
       "   'M_label_abbr': 'I cannot tell',\n",
       "   'O_label_bbox': 0,\n",
       "   'O_label_required': 0,\n",
       "   'O_label_placeholder': nan,\n",
       "   'O_label_icon': '../static/images/customized_icons/cannottell-0.png'}],\n",
       " 'Encoding / rendering technique-Others': [{'M_label_id': 'lab_15',\n",
       "   'M_label_name': 'Others',\n",
       "   'M_label_type': 3,\n",
       "   'M_label_parent': 'lab_0',\n",
       "   'M_label_abbr': 'Other',\n",
       "   'O_label_bbox': 0,\n",
       "   'O_label_required': 0,\n",
       "   'O_label_placeholder': \"e.g., table; photo (use ';' to separate multiple entries)\",\n",
       "   'O_label_icon': nan}],\n",
       " 'root-Dimensionality of the rendering': [{'M_label_id': 'lab_16',\n",
       "   'M_label_name': 'Dimensionality of the rendering',\n",
       "   'M_label_type': 0,\n",
       "   'M_label_parent': 'root',\n",
       "   'M_label_abbr': 'Dim',\n",
       "   'O_label_bbox': 0,\n",
       "   'O_label_required': 1,\n",
       "   'O_label_placeholder': nan,\n",
       "   'O_label_icon': nan}],\n",
       " 'Dimensionality of the rendering-2D': [{'M_label_id': 'lab_17',\n",
       "   'M_label_name': '2D',\n",
       "   'M_label_type': 1,\n",
       "   'M_label_parent': 'lab_16',\n",
       "   'M_label_abbr': '2D',\n",
       "   'O_label_bbox': 0,\n",
       "   'O_label_required': 0,\n",
       "   'O_label_placeholder': nan,\n",
       "   'O_label_icon': '../static/images/customized_icons/2D-0.png'}],\n",
       " 'Dimensionality of the rendering-3D': [{'M_label_id': 'lab_18',\n",
       "   'M_label_name': '3D',\n",
       "   'M_label_type': 1,\n",
       "   'M_label_parent': 'lab_16',\n",
       "   'M_label_abbr': '3D',\n",
       "   'O_label_bbox': 0,\n",
       "   'O_label_required': 0,\n",
       "   'O_label_placeholder': nan,\n",
       "   'O_label_icon': '../static/images/customized_icons/3D-0.png'}],\n",
       " 'Dimensionality of the rendering-I cannot tell': [{'M_label_id': 'lab_19',\n",
       "   'M_label_name': 'I cannot tell',\n",
       "   'M_label_type': 1,\n",
       "   'M_label_parent': 'lab_16',\n",
       "   'M_label_abbr': 'I cannot tell',\n",
       "   'O_label_bbox': 0,\n",
       "   'O_label_required': 0,\n",
       "   'O_label_placeholder': nan,\n",
       "   'O_label_icon': '../static/images/customized_icons/cannottell-0.png'}],\n",
       " 'root-Multiple composite / views (juxtaposition)': [{'M_label_id': 'lab_20',\n",
       "   'M_label_name': 'Multiple composite / views (juxtaposition)',\n",
       "   'M_label_type': 0,\n",
       "   'M_label_parent': 'root',\n",
       "   'M_label_abbr': 'Multi-Comp',\n",
       "   'O_label_bbox': 0,\n",
       "   'O_label_required': 1,\n",
       "   'O_label_placeholder': nan,\n",
       "   'O_label_icon': nan}],\n",
       " 'Multiple composite / views (juxtaposition)-Yes, manually-arranged': [{'M_label_id': 'lab_21',\n",
       "   'M_label_name': 'Yes, manually-arranged',\n",
       "   'M_label_type': 1,\n",
       "   'M_label_parent': 'lab_20',\n",
       "   'M_label_abbr': 'Yes-manually-arranged',\n",
       "   'O_label_bbox': 0,\n",
       "   'O_label_required': 0,\n",
       "   'O_label_placeholder': nan,\n",
       "   'O_label_icon': '../static/images/customized_icons/yes-manu-0.png'}],\n",
       " 'Multiple composite / views (juxtaposition)-Yes, machine-arranged': [{'M_label_id': 'lab_22',\n",
       "   'M_label_name': 'Yes, machine-arranged',\n",
       "   'M_label_type': 1,\n",
       "   'M_label_parent': 'lab_20',\n",
       "   'M_label_abbr': 'Yes-machine arranged',\n",
       "   'O_label_bbox': 0,\n",
       "   'O_label_required': 0,\n",
       "   'O_label_placeholder': nan,\n",
       "   'O_label_icon': '../static/images/customized_icons/yes-mach-0.png'}],\n",
       " 'Multiple composite / views (juxtaposition)-No (just one vis)': [{'M_label_id': 'lab_23',\n",
       "   'M_label_name': 'No (just one vis)',\n",
       "   'M_label_type': 1,\n",
       "   'M_label_parent': 'lab_20',\n",
       "   'M_label_abbr': 'No (just one vis)',\n",
       "   'O_label_bbox': 0,\n",
       "   'O_label_required': 0,\n",
       "   'O_label_placeholder': nan,\n",
       "   'O_label_icon': '../static/images/customized_icons/one-vis-0.png'}],\n",
       " 'Multiple composite / views (juxtaposition)-I cannot tell': [{'M_label_id': 'lab_24',\n",
       "   'M_label_name': 'I cannot tell',\n",
       "   'M_label_type': 1,\n",
       "   'M_label_parent': 'lab_20',\n",
       "   'M_label_abbr': 'I cannot tell',\n",
       "   'O_label_bbox': 0,\n",
       "   'O_label_required': 0,\n",
       "   'O_label_placeholder': nan,\n",
       "   'O_label_icon': '../static/images/customized_icons/cannottell-0.png'}],\n",
       " 'root-Multiple nested or layered visualizations': [{'M_label_id': 'lab_25',\n",
       "   'M_label_name': 'Multiple nested or layered visualizations',\n",
       "   'M_label_type': 0,\n",
       "   'M_label_parent': 'root',\n",
       "   'M_label_abbr': 'Multi-Nest',\n",
       "   'O_label_bbox': 0,\n",
       "   'O_label_required': 1,\n",
       "   'O_label_placeholder': nan,\n",
       "   'O_label_icon': nan}],\n",
       " 'Multiple nested or layered visualizations-No': [{'M_label_id': 'lab_26',\n",
       "   'M_label_name': 'No',\n",
       "   'M_label_type': 2,\n",
       "   'M_label_parent': 'lab_25',\n",
       "   'M_label_abbr': 'NestNo',\n",
       "   'O_label_bbox': 0,\n",
       "   'O_label_required': 0,\n",
       "   'O_label_placeholder': nan,\n",
       "   'O_label_icon': '../static/images/customized_icons/comp-n-0.png'}],\n",
       " 'Multiple nested or layered visualizations-Yes': [{'M_label_id': 'lab_27',\n",
       "   'M_label_name': 'Yes',\n",
       "   'M_label_type': 2,\n",
       "   'M_label_parent': 'lab_25',\n",
       "   'M_label_abbr': 'NestYes',\n",
       "   'O_label_bbox': 0,\n",
       "   'O_label_required': 0,\n",
       "   'O_label_placeholder': nan,\n",
       "   'O_label_icon': '../static/images/customized_icons/comp-y-0.png'}],\n",
       " 'Multiple nested or layered visualizations-Maybe': [{'M_label_id': 'lab_28',\n",
       "   'M_label_name': 'Maybe',\n",
       "   'M_label_type': 2,\n",
       "   'M_label_parent': 'lab_25',\n",
       "   'M_label_abbr': 'NestMaybe',\n",
       "   'O_label_bbox': 0,\n",
       "   'O_label_required': 0,\n",
       "   'O_label_placeholder': nan,\n",
       "   'O_label_icon': '../static/images/customized_icons/maybe-0.png'}],\n",
       " 'root-How hard was it to code this image?': [{'M_label_id': 'lab_29',\n",
       "   'M_label_name': 'How hard was it to code this image?',\n",
       "   'M_label_type': 0,\n",
       "   'M_label_parent': 'root',\n",
       "   'M_label_abbr': 'Hardness',\n",
       "   'O_label_bbox': 0,\n",
       "   'O_label_required': 1,\n",
       "   'O_label_placeholder': nan,\n",
       "   'O_label_icon': nan}],\n",
       " 'How hard was it to code this image?-Easy': [{'M_label_id': 'lab_30',\n",
       "   'M_label_name': 'Easy',\n",
       "   'M_label_type': 2,\n",
       "   'M_label_parent': 'lab_29',\n",
       "   'M_label_abbr': 'Easy',\n",
       "   'O_label_bbox': 0,\n",
       "   'O_label_required': 0,\n",
       "   'O_label_placeholder': nan,\n",
       "   'O_label_icon': '../static/images/customized_icons/easy-0.png'}],\n",
       " 'How hard was it to code this image?-Neutral': [{'M_label_id': 'lab_31',\n",
       "   'M_label_name': 'Neutral',\n",
       "   'M_label_type': 2,\n",
       "   'M_label_parent': 'lab_29',\n",
       "   'M_label_abbr': 'Neutral',\n",
       "   'O_label_bbox': 0,\n",
       "   'O_label_required': 0,\n",
       "   'O_label_placeholder': nan,\n",
       "   'O_label_icon': '../static/images/customized_icons/neutral-0.png'}],\n",
       " 'How hard was it to code this image?-Hard': [{'M_label_id': 'lab_32',\n",
       "   'M_label_name': 'Hard',\n",
       "   'M_label_type': 2,\n",
       "   'M_label_parent': 'lab_29',\n",
       "   'M_label_abbr': 'Hard',\n",
       "   'O_label_bbox': 0,\n",
       "   'O_label_required': 0,\n",
       "   'O_label_placeholder': nan,\n",
       "   'O_label_icon': '../static/images/customized_icons/hard-0.png'}],\n",
       " 'root-Notes': [{'M_label_id': 'lab_33',\n",
       "   'M_label_name': 'Notes',\n",
       "   'M_label_type': 0,\n",
       "   'M_label_parent': 'root',\n",
       "   'M_label_abbr': 'Notes',\n",
       "   'O_label_bbox': 0,\n",
       "   'O_label_required': 0,\n",
       "   'O_label_placeholder': nan,\n",
       "   'O_label_icon': nan}],\n",
       " 'Notes-Note Text': [{'M_label_id': 'lab_34',\n",
       "   'M_label_name': 'Note Text',\n",
       "   'M_label_type': 3,\n",
       "   'M_label_parent': 'lab_33',\n",
       "   'M_label_abbr': 'NoteText',\n",
       "   'O_label_bbox': 0,\n",
       "   'O_label_required': 0,\n",
       "   'O_label_placeholder': nan,\n",
       "   'O_label_icon': nan}]}"
      ]
     },
     "execution_count": 24,
     "metadata": {},
     "output_type": "execute_result"
    }
   ],
   "source": [
    "schema_data = pd.read_csv('dummy data/vis7years/label_schema.csv', encoding = 'utf-8')\n",
    "schema_id_dic = Utils.createTableDicByData('M_label_id', schema_data)\n",
    "\n",
    "schema_dic = create_schema_dic_by_names(schema_data, schema_id_dic)\n",
    "\n",
    "schema_dic"
   ]
  },
  {
   "cell_type": "code",
   "execution_count": 25,
   "metadata": {
    "code_folding": []
   },
   "outputs": [],
   "source": [
    "def convert_readable_to_db(annotation_data, shema_data):\n",
    "    '''\n",
    "    convert human readable csv to the database format\n",
    "    '''\n",
    "    \n",
    "    schema_id_dic = Utils.createTableDicByData('M_label_id', shema_data)\n",
    "    schema_dic = \n",
    "    anno_table_list = []\n",
    "\n",
    "    for i in range(len(annotation_data)):\n",
    "        image_id = annotation_data.at[i,'M_image_id']\n",
    "        user_dic = {}\n",
    "        user_dic['user1'] = annotation_data.at[i,'user1 name']\n",
    "        user_dic['user2'] = annotation_data.at[i,'user2 name']\n",
    "        if(pd.isna(user_dic['user2'])):\n",
    "            users = ['user1']\n",
    "        else:\n",
    "            users = ['user1', 'user2']\n",
    "\n",
    "\n",
    "        for user in users:\n",
    "            table_dic = {}\n",
    "            table_dic['image_id'] = image_id\n",
    "            table_dic['username'] = user_dic[user]\n",
    "            table_dic['annotation_log'] = annotation_data.at[i,user+'-annotation_log']\n",
    "            table_dic['log_dates'] = annotation_data.at[i,user+'-log_dates']\n",
    "            table_dic['is_error_image'] = annotation_data.at[i,user+'-is_error_image']\n",
    "            table_dic['need_discuss'] = annotation_data.at[i,user+'-need_discuss']\n",
    "            table_dic['marked_fun'] = annotation_data.at[i,user+'-marked_fun']\n",
    "            table_dic['marked_OK'] = annotation_data.at[i,user+'-marked_OK']\n",
    "            table_dic['checked_caption'] = annotation_data.at[i,user+'-checked_caption']\n",
    "            table_dic['checked_paper'] = annotation_data.at[i,user+'-checked_paper']\n",
    "            categories = []\n",
    "            for label_id in schema_id_dic:\n",
    "                label_type = schema_id_dic[label_id][0]['M_label_type']\n",
    "                if(int(label_type) == 0):\n",
    "                    categories.append(schema_id_dic[label_id][0]['M_label_name'])\n",
    "                elif(int(label_type) == 1):\n",
    "                    table_dic[label_id] = int(0)\n",
    "                elif(int(label_type) == 2):\n",
    "                    table_dic[schema_id_dic[label_id][0]['M_label_parent']] = \"\"\n",
    "                elif(int(label_type) == 3):\n",
    "                    table_dic[label_id] = \"\"\n",
    "\n",
    "            if(pd.isna(annotation_data.at[i,user+'-regions'])):\n",
    "                table_dic['regions'] = \"\"\n",
    "            else:\n",
    "                table_dic['regions'] = annotation_data.at[i,user+'-regions']\n",
    "            for category in categories:\n",
    "                record = annotation_data.at[i,user+'-'+category]\n",
    "                if(not pd.isna(record)):\n",
    "                    record = record.split('; ')\n",
    "                    for name in record:\n",
    "                        key = category + '-' + name\n",
    "                        if(key in schema_dic):\n",
    "                            label_id = schema_dic[key][0]['M_label_id']\n",
    "                            label_type = schema_dic[key][0]['M_label_type']\n",
    "                            if(int(label_type) == 1):\n",
    "                                table_dic[label_id] = int(1)\n",
    "                            elif(int(label_type) == 2):\n",
    "                                table_dic[schema_id_dic[label_id][0]['M_label_parent']] = label_id\n",
    "                        else:\n",
    "                            text_name = name.split(':')[0]\n",
    "                            key = category + '-' + text_name\n",
    "                            text = name.split(':')[1]\n",
    "                            label_id = schema_dic[key][0]['M_label_id']\n",
    "                            table_dic[label_id] = text\n",
    "\n",
    "            anno_table_list.append(table_dic)\n",
    "\n",
    "    df = pd.DataFrame(anno_table_list)\n",
    "\n",
    "    return df"
   ]
  },
  {
   "cell_type": "code",
   "execution_count": 26,
   "metadata": {},
   "outputs": [
    {
     "data": {
      "text/html": [
       "<div>\n",
       "<style scoped>\n",
       "    .dataframe tbody tr th:only-of-type {\n",
       "        vertical-align: middle;\n",
       "    }\n",
       "\n",
       "    .dataframe tbody tr th {\n",
       "        vertical-align: top;\n",
       "    }\n",
       "\n",
       "    .dataframe thead th {\n",
       "        text-align: right;\n",
       "    }\n",
       "</style>\n",
       "<table border=\"1\" class=\"dataframe\">\n",
       "  <thead>\n",
       "    <tr style=\"text-align: right;\">\n",
       "      <th></th>\n",
       "      <th>image_id</th>\n",
       "      <th>username</th>\n",
       "      <th>annotation_log</th>\n",
       "      <th>log_dates</th>\n",
       "      <th>is_error_image</th>\n",
       "      <th>need_discuss</th>\n",
       "      <th>marked_fun</th>\n",
       "      <th>marked_OK</th>\n",
       "      <th>checked_caption</th>\n",
       "      <th>checked_paper</th>\n",
       "      <th>...</th>\n",
       "      <th>lab_18</th>\n",
       "      <th>lab_19</th>\n",
       "      <th>lab_21</th>\n",
       "      <th>lab_22</th>\n",
       "      <th>lab_23</th>\n",
       "      <th>lab_24</th>\n",
       "      <th>lab_25</th>\n",
       "      <th>lab_29</th>\n",
       "      <th>lab_34</th>\n",
       "      <th>regions</th>\n",
       "    </tr>\n",
       "  </thead>\n",
       "  <tbody>\n",
       "    <tr>\n",
       "      <th>0</th>\n",
       "      <td>I6674Y2000</td>\n",
       "      <td>RL</td>\n",
       "      <td>RL:login; RL:lab_1:1; RL:lab_6:1; RL:lab_18:1;...</td>\n",
       "      <td>01/23/2022, 23:24:48; 01/23/2022, 23:24:48; 01...</td>\n",
       "      <td>0</td>\n",
       "      <td>0</td>\n",
       "      <td>0</td>\n",
       "      <td>0</td>\n",
       "      <td>0</td>\n",
       "      <td>0</td>\n",
       "      <td>...</td>\n",
       "      <td>1</td>\n",
       "      <td>0</td>\n",
       "      <td>1</td>\n",
       "      <td>0</td>\n",
       "      <td>0</td>\n",
       "      <td>0</td>\n",
       "      <td>lab_27</td>\n",
       "      <td>lab_31</td>\n",
       "      <td>222</td>\n",
       "      <td></td>\n",
       "    </tr>\n",
       "    <tr>\n",
       "      <th>1</th>\n",
       "      <td>I6674Y2000</td>\n",
       "      <td>TI</td>\n",
       "      <td>NaN</td>\n",
       "      <td>NaN</td>\n",
       "      <td>0</td>\n",
       "      <td>0</td>\n",
       "      <td>0</td>\n",
       "      <td>0</td>\n",
       "      <td>0</td>\n",
       "      <td>0</td>\n",
       "      <td>...</td>\n",
       "      <td>0</td>\n",
       "      <td>0</td>\n",
       "      <td>0</td>\n",
       "      <td>0</td>\n",
       "      <td>0</td>\n",
       "      <td>0</td>\n",
       "      <td></td>\n",
       "      <td></td>\n",
       "      <td></td>\n",
       "      <td></td>\n",
       "    </tr>\n",
       "    <tr>\n",
       "      <th>2</th>\n",
       "      <td>I163Y2015</td>\n",
       "      <td>RL</td>\n",
       "      <td>RL:login; RL:lab_6:1; RL:lab_13:1; RL:lab_19:1...</td>\n",
       "      <td>01/23/2022, 23:24:54; 01/23/2022, 23:24:55; 01...</td>\n",
       "      <td>0</td>\n",
       "      <td>0</td>\n",
       "      <td>0</td>\n",
       "      <td>0</td>\n",
       "      <td>0</td>\n",
       "      <td>0</td>\n",
       "      <td>...</td>\n",
       "      <td>0</td>\n",
       "      <td>1</td>\n",
       "      <td>1</td>\n",
       "      <td>1</td>\n",
       "      <td>0</td>\n",
       "      <td>1</td>\n",
       "      <td>lab_28</td>\n",
       "      <td>lab_32</td>\n",
       "      <td></td>\n",
       "      <td></td>\n",
       "    </tr>\n",
       "    <tr>\n",
       "      <th>3</th>\n",
       "      <td>I163Y2015</td>\n",
       "      <td>TM</td>\n",
       "      <td>NaN</td>\n",
       "      <td>NaN</td>\n",
       "      <td>0</td>\n",
       "      <td>0</td>\n",
       "      <td>0</td>\n",
       "      <td>0</td>\n",
       "      <td>0</td>\n",
       "      <td>0</td>\n",
       "      <td>...</td>\n",
       "      <td>0</td>\n",
       "      <td>0</td>\n",
       "      <td>0</td>\n",
       "      <td>0</td>\n",
       "      <td>0</td>\n",
       "      <td>0</td>\n",
       "      <td></td>\n",
       "      <td></td>\n",
       "      <td></td>\n",
       "      <td></td>\n",
       "    </tr>\n",
       "    <tr>\n",
       "      <th>4</th>\n",
       "      <td>I6857Y2020</td>\n",
       "      <td>RL</td>\n",
       "      <td>RL:login; RL:lab_14:1; RL:lab_19:1; RL:lab_21:...</td>\n",
       "      <td>01/23/2022, 23:25:00; 01/23/2022, 23:25:01; 01...</td>\n",
       "      <td>0</td>\n",
       "      <td>0</td>\n",
       "      <td>0</td>\n",
       "      <td>0</td>\n",
       "      <td>0</td>\n",
       "      <td>0</td>\n",
       "      <td>...</td>\n",
       "      <td>0</td>\n",
       "      <td>1</td>\n",
       "      <td>1</td>\n",
       "      <td>1</td>\n",
       "      <td>0</td>\n",
       "      <td>0</td>\n",
       "      <td>lab_28</td>\n",
       "      <td>lab_31</td>\n",
       "      <td>45345</td>\n",
       "      <td></td>\n",
       "    </tr>\n",
       "    <tr>\n",
       "      <th>...</th>\n",
       "      <td>...</td>\n",
       "      <td>...</td>\n",
       "      <td>...</td>\n",
       "      <td>...</td>\n",
       "      <td>...</td>\n",
       "      <td>...</td>\n",
       "      <td>...</td>\n",
       "      <td>...</td>\n",
       "      <td>...</td>\n",
       "      <td>...</td>\n",
       "      <td>...</td>\n",
       "      <td>...</td>\n",
       "      <td>...</td>\n",
       "      <td>...</td>\n",
       "      <td>...</td>\n",
       "      <td>...</td>\n",
       "      <td>...</td>\n",
       "      <td>...</td>\n",
       "      <td>...</td>\n",
       "      <td>...</td>\n",
       "      <td>...</td>\n",
       "    </tr>\n",
       "    <tr>\n",
       "      <th>13661</th>\n",
       "      <td>I17Y2015</td>\n",
       "      <td>HS</td>\n",
       "      <td>NaN</td>\n",
       "      <td>NaN</td>\n",
       "      <td>0</td>\n",
       "      <td>0</td>\n",
       "      <td>0</td>\n",
       "      <td>0</td>\n",
       "      <td>0</td>\n",
       "      <td>0</td>\n",
       "      <td>...</td>\n",
       "      <td>0</td>\n",
       "      <td>0</td>\n",
       "      <td>0</td>\n",
       "      <td>0</td>\n",
       "      <td>0</td>\n",
       "      <td>0</td>\n",
       "      <td></td>\n",
       "      <td></td>\n",
       "      <td></td>\n",
       "      <td></td>\n",
       "    </tr>\n",
       "    <tr>\n",
       "      <th>13662</th>\n",
       "      <td>I185Y2000</td>\n",
       "      <td>JC</td>\n",
       "      <td>NaN</td>\n",
       "      <td>NaN</td>\n",
       "      <td>0</td>\n",
       "      <td>0</td>\n",
       "      <td>0</td>\n",
       "      <td>0</td>\n",
       "      <td>0</td>\n",
       "      <td>0</td>\n",
       "      <td>...</td>\n",
       "      <td>0</td>\n",
       "      <td>0</td>\n",
       "      <td>0</td>\n",
       "      <td>0</td>\n",
       "      <td>0</td>\n",
       "      <td>0</td>\n",
       "      <td></td>\n",
       "      <td></td>\n",
       "      <td></td>\n",
       "      <td></td>\n",
       "    </tr>\n",
       "    <tr>\n",
       "      <th>13663</th>\n",
       "      <td>I185Y2000</td>\n",
       "      <td>HS</td>\n",
       "      <td>NaN</td>\n",
       "      <td>NaN</td>\n",
       "      <td>0</td>\n",
       "      <td>0</td>\n",
       "      <td>0</td>\n",
       "      <td>0</td>\n",
       "      <td>0</td>\n",
       "      <td>0</td>\n",
       "      <td>...</td>\n",
       "      <td>0</td>\n",
       "      <td>0</td>\n",
       "      <td>0</td>\n",
       "      <td>0</td>\n",
       "      <td>0</td>\n",
       "      <td>0</td>\n",
       "      <td></td>\n",
       "      <td></td>\n",
       "      <td></td>\n",
       "      <td></td>\n",
       "    </tr>\n",
       "    <tr>\n",
       "      <th>13664</th>\n",
       "      <td>I8180Y2020</td>\n",
       "      <td>JC</td>\n",
       "      <td>NaN</td>\n",
       "      <td>NaN</td>\n",
       "      <td>0</td>\n",
       "      <td>0</td>\n",
       "      <td>0</td>\n",
       "      <td>0</td>\n",
       "      <td>0</td>\n",
       "      <td>0</td>\n",
       "      <td>...</td>\n",
       "      <td>0</td>\n",
       "      <td>0</td>\n",
       "      <td>0</td>\n",
       "      <td>0</td>\n",
       "      <td>0</td>\n",
       "      <td>0</td>\n",
       "      <td></td>\n",
       "      <td></td>\n",
       "      <td></td>\n",
       "      <td></td>\n",
       "    </tr>\n",
       "    <tr>\n",
       "      <th>13665</th>\n",
       "      <td>I8180Y2020</td>\n",
       "      <td>HS</td>\n",
       "      <td>NaN</td>\n",
       "      <td>NaN</td>\n",
       "      <td>0</td>\n",
       "      <td>0</td>\n",
       "      <td>0</td>\n",
       "      <td>0</td>\n",
       "      <td>0</td>\n",
       "      <td>0</td>\n",
       "      <td>...</td>\n",
       "      <td>0</td>\n",
       "      <td>0</td>\n",
       "      <td>0</td>\n",
       "      <td>0</td>\n",
       "      <td>0</td>\n",
       "      <td>0</td>\n",
       "      <td></td>\n",
       "      <td></td>\n",
       "      <td></td>\n",
       "      <td></td>\n",
       "    </tr>\n",
       "  </tbody>\n",
       "</table>\n",
       "<p>13666 rows × 36 columns</p>\n",
       "</div>"
      ],
      "text/plain": [
       "         image_id username                                     annotation_log  \\\n",
       "0      I6674Y2000       RL  RL:login; RL:lab_1:1; RL:lab_6:1; RL:lab_18:1;...   \n",
       "1      I6674Y2000       TI                                                NaN   \n",
       "2       I163Y2015       RL  RL:login; RL:lab_6:1; RL:lab_13:1; RL:lab_19:1...   \n",
       "3       I163Y2015       TM                                                NaN   \n",
       "4      I6857Y2020       RL  RL:login; RL:lab_14:1; RL:lab_19:1; RL:lab_21:...   \n",
       "...           ...      ...                                                ...   \n",
       "13661    I17Y2015       HS                                                NaN   \n",
       "13662   I185Y2000       JC                                                NaN   \n",
       "13663   I185Y2000       HS                                                NaN   \n",
       "13664  I8180Y2020       JC                                                NaN   \n",
       "13665  I8180Y2020       HS                                                NaN   \n",
       "\n",
       "                                               log_dates  is_error_image  \\\n",
       "0      01/23/2022, 23:24:48; 01/23/2022, 23:24:48; 01...               0   \n",
       "1                                                    NaN               0   \n",
       "2      01/23/2022, 23:24:54; 01/23/2022, 23:24:55; 01...               0   \n",
       "3                                                    NaN               0   \n",
       "4      01/23/2022, 23:25:00; 01/23/2022, 23:25:01; 01...               0   \n",
       "...                                                  ...             ...   \n",
       "13661                                                NaN               0   \n",
       "13662                                                NaN               0   \n",
       "13663                                                NaN               0   \n",
       "13664                                                NaN               0   \n",
       "13665                                                NaN               0   \n",
       "\n",
       "       need_discuss  marked_fun  marked_OK  checked_caption  checked_paper  \\\n",
       "0                 0           0          0                0              0   \n",
       "1                 0           0          0                0              0   \n",
       "2                 0           0          0                0              0   \n",
       "3                 0           0          0                0              0   \n",
       "4                 0           0          0                0              0   \n",
       "...             ...         ...        ...              ...            ...   \n",
       "13661             0           0          0                0              0   \n",
       "13662             0           0          0                0              0   \n",
       "13663             0           0          0                0              0   \n",
       "13664             0           0          0                0              0   \n",
       "13665             0           0          0                0              0   \n",
       "\n",
       "       ...  lab_18  lab_19  lab_21  lab_22  lab_23  lab_24  lab_25  lab_29  \\\n",
       "0      ...       1       0       1       0       0       0  lab_27  lab_31   \n",
       "1      ...       0       0       0       0       0       0                   \n",
       "2      ...       0       1       1       1       0       1  lab_28  lab_32   \n",
       "3      ...       0       0       0       0       0       0                   \n",
       "4      ...       0       1       1       1       0       0  lab_28  lab_31   \n",
       "...    ...     ...     ...     ...     ...     ...     ...     ...     ...   \n",
       "13661  ...       0       0       0       0       0       0                   \n",
       "13662  ...       0       0       0       0       0       0                   \n",
       "13663  ...       0       0       0       0       0       0                   \n",
       "13664  ...       0       0       0       0       0       0                   \n",
       "13665  ...       0       0       0       0       0       0                   \n",
       "\n",
       "       lab_34  regions  \n",
       "0         222           \n",
       "1                       \n",
       "2                       \n",
       "3                       \n",
       "4       45345           \n",
       "...       ...      ...  \n",
       "13661                   \n",
       "13662                   \n",
       "13663                   \n",
       "13664                   \n",
       "13665                   \n",
       "\n",
       "[13666 rows x 36 columns]"
      ]
     },
     "execution_count": 26,
     "metadata": {},
     "output_type": "execute_result"
    }
   ],
   "source": [
    "schema_data = pd.read_csv('dummy data/vis7years/label_schema.csv', encoding = 'utf-8')\n",
    "annotation_data = pd.read_csv('dummy data/vis7years/annotations.csv', encoding = 'utf-8')\n",
    "convert_readable_to_db(annotation_data, schema_data)"
   ]
  },
  {
   "cell_type": "code",
   "execution_count": 27,
   "metadata": {},
   "outputs": [
    {
     "data": {
      "text/plain": [
       "True"
      ]
     },
     "execution_count": 27,
     "metadata": {},
     "output_type": "execute_result"
    }
   ],
   "source": [
    "';' in 'test;'"
   ]
  },
  {
   "cell_type": "code",
   "execution_count": 30,
   "metadata": {},
   "outputs": [
    {
     "data": {
      "text/plain": [
       "int"
      ]
     },
     "execution_count": 30,
     "metadata": {},
     "output_type": "execute_result"
    }
   ],
   "source": [
    "type(0)"
   ]
  },
  {
   "cell_type": "code",
   "execution_count": 1,
   "metadata": {},
   "outputs": [],
   "source": [
    "import pandas as pd"
   ]
  },
  {
   "cell_type": "code",
   "execution_count": 2,
   "metadata": {},
   "outputs": [],
   "source": [
    "data = pd.read_csv('test cases/camelyon16/images.csv', encoding = 'utf-8')"
   ]
  },
  {
   "cell_type": "code",
   "execution_count": 1,
   "metadata": {},
   "outputs": [
    {
     "data": {
      "text/plain": [
       "87058.284544"
      ]
     },
     "execution_count": 1,
     "metadata": {},
     "output_type": "execute_result"
    }
   ],
   "source": [
    "131072 * 0.664202"
   ]
  },
  {
   "cell_type": "code",
   "execution_count": 3,
   "metadata": {},
   "outputs": [
    {
     "data": {
      "text/plain": [
       "34659.12602352941"
      ]
     },
     "execution_count": 3,
     "metadata": {},
     "output_type": "execute_result"
    }
   ],
   "source": [
    "89600*(0.26303801/0.68)"
   ]
  },
  {
   "cell_type": "code",
   "execution_count": 4,
   "metadata": {},
   "outputs": [
    {
     "data": {
      "text/plain": [
       "114.9425287356322"
      ]
     },
     "execution_count": 4,
     "metadata": {},
     "output_type": "execute_result"
    }
   ],
   "source": [
    "1/0.0087"
   ]
  },
  {
   "cell_type": "code",
   "execution_count": 6,
   "metadata": {},
   "outputs": [
    {
     "data": {
      "text/plain": [
       "108.6261980830671"
      ]
     },
     "execution_count": 6,
     "metadata": {},
     "output_type": "execute_result"
    }
   ],
   "source": [
    "0.68/0.00626"
   ]
  },
  {
   "cell_type": "code",
   "execution_count": 3,
   "metadata": {},
   "outputs": [
    {
     "data": {
      "text/plain": [
       "0.68359375"
      ]
     },
     "execution_count": 3,
     "metadata": {},
     "output_type": "execute_result"
    }
   ],
   "source": [
    "89600/131072"
   ]
  },
  {
   "cell_type": "code",
   "execution_count": 2,
   "metadata": {},
   "outputs": [
    {
     "data": {
      "text/plain": [
       "0.9135802469135802"
      ]
     },
     "execution_count": 2,
     "metadata": {},
     "output_type": "execute_result"
    }
   ],
   "source": [
    "0.74/0.81"
   ]
  },
  {
   "cell_type": "markdown",
   "metadata": {},
   "source": [
    "# Eyetracker setup\n",
    "\n",
    "https://developer.tobiipro.com/python/python-step-by-step-guide.html"
   ]
  },
  {
   "cell_type": "code",
   "execution_count": 1,
   "metadata": {},
   "outputs": [],
   "source": [
    "import tobii_research as tr\n",
    "import time"
   ]
  },
  {
   "cell_type": "code",
   "execution_count": 2,
   "metadata": {},
   "outputs": [
    {
     "name": "stdout",
     "output_type": "stream",
     "text": [
      "Address: tobii-prp://TPFC2-010201449954\n",
      "Model: Tobii Pro Fusion\n",
      "Name (It's OK if this is empty): Tobii Pro Fusion\n",
      "Serial number: TPFC2-010201449954\n"
     ]
    }
   ],
   "source": [
    "found_eyetrackers = tr.find_all_eyetrackers()\n",
    "my_eyetracker = found_eyetrackers[0]\n",
    "print(\"Address: \" + my_eyetracker.address)\n",
    "print(\"Model: \" + my_eyetracker.model)\n",
    "print(\"Name (It's OK if this is empty): \" + my_eyetracker.device_name)\n",
    "print(\"Serial number: \" + my_eyetracker.serial_number)"
   ]
  },
  {
   "cell_type": "code",
   "execution_count": 7,
   "metadata": {},
   "outputs": [
    {
     "data": {
      "text/plain": [
       "(-258.2686767578125, 12.817127227783203, -5.976724624633789)"
      ]
     },
     "execution_count": 7,
     "metadata": {},
     "output_type": "execute_result"
    }
   ],
   "source": [
    "display_area = my_eyetracker.get_display_area()\n",
    "display_area.bottom_left"
   ]
  },
  {
   "cell_type": "code",
   "execution_count": 12,
   "metadata": {},
   "outputs": [],
   "source": [
    "\n",
    "def gaze_data_callback(gaze_data):\n",
    "    print(gaze_data['system_time_stamp'])\n",
    "    # Print gaze points of left and right eye\n",
    "    print(\"Left eye: ({gaze_left_eye}) \\t Right eye: ({gaze_right_eye})\".format(\n",
    "        gaze_left_eye=gaze_data['left_gaze_point_on_display_area'],\n",
    "        gaze_right_eye=gaze_data['right_gaze_point_on_display_area']))"
   ]
  },
  {
   "cell_type": "code",
   "execution_count": 13,
   "metadata": {},
   "outputs": [
    {
     "data": {
      "text/plain": [
       "'08/30/2022, 20:55:10'"
      ]
     },
     "execution_count": 13,
     "metadata": {},
     "output_type": "execute_result"
    }
   ],
   "source": [
    "from datetime import datetime\n",
    "datetime.now().strftime(\"%m/%d/%Y, %H:%M:%S\")"
   ]
  },
  {
   "cell_type": "code",
   "execution_count": 21,
   "metadata": {},
   "outputs": [
    {
     "data": {
      "text/plain": [
       "'{\"a\":[1,2],\"b\":[]}'"
      ]
     },
     "execution_count": 21,
     "metadata": {},
     "output_type": "execute_result"
    }
   ],
   "source": [
    "a = f'{{\"a\":[1,2]}}'\n",
    "\n",
    "b = a[:-1] + f',\"b\":[]}}'\n",
    "\n",
    "b"
   ]
  }
 ],
 "metadata": {
  "kernelspec": {
   "display_name": "Python 3.8.13 ('vis')",
   "language": "python",
   "name": "python3"
  },
  "language_info": {
   "codemirror_mode": {
    "name": "ipython",
    "version": 3
   },
   "file_extension": ".py",
   "mimetype": "text/x-python",
   "name": "python",
   "nbconvert_exporter": "python",
   "pygments_lexer": "ipython3",
   "version": "3.8.13"
  },
  "toc": {
   "base_numbering": 1,
   "nav_menu": {},
   "number_sections": true,
   "sideBar": true,
   "skip_h1_title": false,
   "title_cell": "Table of Contents",
   "title_sidebar": "Contents",
   "toc_cell": false,
   "toc_position": {},
   "toc_section_display": true,
   "toc_window_display": false
  },
  "vscode": {
   "interpreter": {
    "hash": "80e25b2b71e1b969a720169da8c9142f5b822fa5a022b19115075346b69fe9f0"
   }
  }
 },
 "nbformat": 4,
 "nbformat_minor": 4
}

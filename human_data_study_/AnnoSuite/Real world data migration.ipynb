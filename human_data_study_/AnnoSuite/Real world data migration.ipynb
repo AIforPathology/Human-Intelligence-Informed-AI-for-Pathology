{
 "cells": [
  {
   "cell_type": "code",
   "execution_count": 1,
   "metadata": {},
   "outputs": [],
   "source": [
    "from os import stat\n",
    "import pandas as pd\n",
    "from sqlalchemy.sql.elements import Label\n",
    "from sqlalchemy.sql.functions import user\n",
    "from doc_anno_suite.database import engine\n",
    "from doc_anno_suite.database import db_session\n",
    "from doc_anno_suite.models import User, Image, Schema, Annotation\n",
    "from sqlalchemy import text\n",
    "from datetime import datetime\n",
    "from dataclasses import asdict\n",
    "from doc_anno_suite.annotations.dbutils import DatabaseCRUD\n",
    "import time"
   ]
  },
  {
   "cell_type": "code",
   "execution_count": 44,
   "metadata": {
    "code_folding": []
   },
   "outputs": [],
   "source": [
    "docanno2visanno = {\n",
    "    'lab_1':'T50',\n",
    "    'lab_2':'T59',\n",
    "    'lab_3':'T56',\n",
    "    'lab_4':'T58',\n",
    "    'lab_5':'T51',\n",
    "    'lab_6':'T57',\n",
    "    'lab_7':'T54',\n",
    "    'lab_8':'T53',\n",
    "    'lab_9':'T52',\n",
    "    'lab_10':'T33',\n",
    "    'lab_11':'T63',\n",
    "    'lab_12':'T60',\n",
    "    'lab_13':'T73',\n",
    "    'lab_14':'T65',\n",
    "    'lab_15':'tagText',\n",
    "    'lab_17':'T26',\n",
    "    'lab_18':'T27',\n",
    "    'lab_19':'T28',\n",
    "    'lab_21':'T70',\n",
    "    'lab_22':'T71',\n",
    "    'lab_23':'T69',\n",
    "    'lab_24':'T72',\n",
    "    'lab_25':'3',\n",
    "    'lab_26':'nest-0',\n",
    "    'lab_27':'nest-1',\n",
    "    'lab_28':'nest-2',\n",
    "    'lab_29':'3',\n",
    "    'lab_30':'hardness-1',\n",
    "    'lab_31':'hardness-2',\n",
    "    'lab_32':'hardness-3',\n",
    "    'lab_34':'commentText',\n",
    "}\n",
    "\n",
    "iconsUrlDic = {\n",
    "    'T50': '../images/icons/bar-0.png',\n",
    "    'T51': '../images/icons/area-0.png',\n",
    "    'T52': '../images/icons/flowchart-0.png',\n",
    "    'T53': '../images/icons/glyph-0.png',\n",
    "    'T54': '../images/icons/matrix-0.png',\n",
    "    'T55': '../images/icons/illustrative-0.png',\n",
    "    'T56': '../images/icons/line-0.png',\n",
    "    'T57': '../images/icons/surface-0.png',\n",
    "    'T58': '../images/icons/nodelinkcir-0.png',\n",
    "    'T59': '../images/icons/scatter-0.png',\n",
    "    'T60': '../images/icons/text-0.png',\n",
    "    'T61': '../images/icons/treemap-0.png',\n",
    "    'T62': '../images/icons/volume-0.png',\n",
    "    'T63': '../images/icons/continuous-0.png',\n",
    "    'T73': '../images/icons/color-0.png',\n",
    "    'T64': '../images/icons/no-0.png',\n",
    "    'T65': '../images/icons/cannottell-0.png',\n",
    "    'T66': '../images/icons/other-0.png',\n",
    "    'T1': '../images/icons/bar-0.png',\n",
    "    'T2': '../images/icons/map-0.png',\n",
    "    'T3': '../images/icons/nodelinktree-0.png',\n",
    "    'T4': '../images/icons/flowchart-0.png',\n",
    "    'T5': '../images/icons/flowline-0.png',\n",
    "    'T6': '../images/icons/glyph-0.png',\n",
    "    'T7': '../images/icons/heatmap-0.png',\n",
    "    'T8': '../images/icons/illustrative-0.png',\n",
    "    'T9': '../images/icons/surface-0.png',\n",
    "    'T10': '../images/icons/line-0.png',\n",
    "    'T11': '../images/icons/matrix-0.png',\n",
    "    'T12': '../images/icons/nodelinkcir-0.png',\n",
    "    'T13': '../images/icons/parallel-0.png',\n",
    "    'T14': '../images/icons/pie-0.png',\n",
    "    'T15': '../images/icons/pointcloud-0.png',\n",
    "    'T16': '../images/icons/scatter-0.png',\n",
    "    'T17': '../images/icons/tag-0.png',\n",
    "    'T18': '../images/icons/timeline-0.png',\n",
    "    'T19': '../images/icons/treemap-0.png',\n",
    "    'T20': '../images/icons/volume-0.png',\n",
    "    'T21': '../images/icons/voronoi-0.png',\n",
    "    'T22': '../images/icons/mesh-0.png',\n",
    "    'T23': '../images/icons/no-0.png',\n",
    "    'T24': '../images/icons/cannottell-0.png',\n",
    "    'T25': '../images/icons/other-0.png',\n",
    "    'T26': '../images/icons/2D-0.png',\n",
    "    'T27': '../images/icons/3D-0.png',\n",
    "    'T28': '../images/icons/cannottell-0.png',\n",
    "    'T29': '../images/icons/photo-0.png',\n",
    "    'T30': '../images/icons/tech-0.png',\n",
    "    'T31': '../images/icons/quan-0.png',\n",
    "    'T32': '../images/icons/flowchart-0.png',\n",
    "    'T33': '../images/icons/GUI-0.png',\n",
    "    'T34': '../images/icons/cannottell-0.png',\n",
    "    'T35': '../images/icons/other-0.png',\n",
    "    'T36': '../images/icons/topology-0.png',\n",
    "    'T37': '../images/icons/displot-0.png',\n",
    "    'T38': '../images/icons/inte-surface-0.png',\n",
    "    'T39': '../images/icons/mesh-surface-0.png',\n",
    "    'type_unsure': '../images/icons/unsure-0.png',\n",
    "    'dim_unsure': '../images/icons/unsure-0.png',\n",
    "    'function_unsure': '../images/icons/unsure-0.png',\n",
    "    'T70': '../images/icons/yes-manu-0.png',\n",
    "    'T71': '../images/icons/yes-mach-0.png',\n",
    "    'T69': '../images/icons/one-vis-0.png',\n",
    "    'T72': '../images/icons/cannottell-0.png',\n",
    "    'nest-0': '../images/icons/comp-n-0.png',\n",
    "    'nest-1': '../images/icons/comp-y-0.png',\n",
    "    'nest-2': '../images/icons/maybe-0.png',\n",
    "    'hardness-1': '../images/icons/easy-0.png',\n",
    "    'hardness-2': '../images/icons/neutral-0.png',\n",
    "    'hardness-3': '../images/icons/hard-0.png'\n",
    "}"
   ]
  },
  {
   "cell_type": "code",
   "execution_count": 4,
   "metadata": {},
   "outputs": [],
   "source": [
    "schema_data = pd.read_csv('dummy data/label_schema.csv', encoding = 'utf-8')"
   ]
  },
  {
   "cell_type": "code",
   "execution_count": 17,
   "metadata": {},
   "outputs": [],
   "source": [
    "for i in range(len(schema_data)):\n",
    "    if(schema_data.at[i,'M_label_type'] != 0):\n",
    "        label_id = schema_data.at[i,'M_label_id']\n",
    "        visanno_id = docanno2visanno[label_id]\n",
    "        if(visanno_id in iconsUrlDic):\n",
    "            icon_url = iconsUrlDic[visanno_id]\n",
    "            icon_url = '../static/images/customized_icons/' + icon_url.split('/')[-1]\n",
    "            \n",
    "        else:\n",
    "            icon_url = ''\n",
    "        schema_data.at[i,'O_label_icon'] = icon_url\n",
    "schema_data.to_csv('dummy data/label_schema_new.csv', index=False, encoding='utf_8_sig')"
   ]
  },
  {
   "cell_type": "code",
   "execution_count": 15,
   "metadata": {},
   "outputs": [
    {
     "data": {
      "text/plain": [
       "4"
      ]
     },
     "execution_count": 15,
     "metadata": {},
     "output_type": "execute_result"
    }
   ],
   "source": [
    "a = [12,3,4]\n",
    "a[-1]"
   ]
  },
  {
   "cell_type": "code",
   "execution_count": 23,
   "metadata": {},
   "outputs": [
    {
     "data": {
      "text/html": [
       "<div>\n",
       "<style scoped>\n",
       "    .dataframe tbody tr th:only-of-type {\n",
       "        vertical-align: middle;\n",
       "    }\n",
       "\n",
       "    .dataframe tbody tr th {\n",
       "        vertical-align: top;\n",
       "    }\n",
       "\n",
       "    .dataframe thead th {\n",
       "        text-align: right;\n",
       "    }\n",
       "</style>\n",
       "<table border=\"1\" class=\"dataframe\">\n",
       "  <thead>\n",
       "    <tr style=\"text-align: right;\">\n",
       "      <th></th>\n",
       "      <th>userID</th>\n",
       "      <th>userIndex</th>\n",
       "      <th>currentIndex</th>\n",
       "      <th>userName</th>\n",
       "      <th>userEmail</th>\n",
       "      <th>userInstitution</th>\n",
       "      <th>userPI</th>\n",
       "      <th>userPIEmail</th>\n",
       "      <th>userOthers</th>\n",
       "      <th>userReason</th>\n",
       "      <th>userImages</th>\n",
       "      <th>facultyCoder</th>\n",
       "      <th>userImagesV2</th>\n",
       "      <th>cocodeSequence</th>\n",
       "      <th>cocodeIndex</th>\n",
       "      <th>cocodeSequenceV2</th>\n",
       "      <th>cocodeIndexV2</th>\n",
       "      <th>history_logs</th>\n",
       "      <th>history_list_date</th>\n",
       "    </tr>\n",
       "  </thead>\n",
       "  <tbody>\n",
       "    <tr>\n",
       "      <th>0</th>\n",
       "      <td>MS</td>\n",
       "      <td>1</td>\n",
       "      <td>1462</td>\n",
       "      <td>Michael Sedlmair</td>\n",
       "      <td>1</td>\n",
       "      <td>1</td>\n",
       "      <td>1</td>\n",
       "      <td>1</td>\n",
       "      <td>1</td>\n",
       "      <td>1</td>\n",
       "      <td>I237Y1995; I263Y2000; I1022Y2005; I1061Y2005; ...</td>\n",
       "      <td>1</td>\n",
       "      <td>I4Y2005; I92Y1990; I101Y2000; I382Y1990; I8005...</td>\n",
       "      <td>I895Y2005; I122Y2000; I370Y2000; I467Y1995; I3...</td>\n",
       "      <td>49</td>\n",
       "      <td>I274Y2010; I7661Y2020; I1085Y2015; I634Y2000; ...</td>\n",
       "      <td>49</td>\n",
       "      <td>Log:STARTW;MS:{\"authors\":\"MS,PI\",\"tags\":\"\",\"an...</td>\n",
       "      <td>placeHolder;MS-9/24/2021, 10:09:10;MS-9/24/202...</td>\n",
       "    </tr>\n",
       "  </tbody>\n",
       "</table>\n",
       "</div>"
      ],
      "text/plain": [
       "  userID  userIndex  currentIndex          userName  userEmail  \\\n",
       "0     MS          1          1462  Michael Sedlmair          1   \n",
       "\n",
       "   userInstitution  userPI  userPIEmail  userOthers  userReason  \\\n",
       "0                1       1            1           1           1   \n",
       "\n",
       "                                          userImages  facultyCoder  \\\n",
       "0  I237Y1995; I263Y2000; I1022Y2005; I1061Y2005; ...             1   \n",
       "\n",
       "                                        userImagesV2  \\\n",
       "0  I4Y2005; I92Y1990; I101Y2000; I382Y1990; I8005...   \n",
       "\n",
       "                                      cocodeSequence  cocodeIndex  \\\n",
       "0  I895Y2005; I122Y2000; I370Y2000; I467Y1995; I3...           49   \n",
       "\n",
       "                                    cocodeSequenceV2  cocodeIndexV2  \\\n",
       "0  I274Y2010; I7661Y2020; I1085Y2015; I634Y2000; ...             49   \n",
       "\n",
       "                                        history_logs  \\\n",
       "0  Log:STARTW;MS:{\"authors\":\"MS,PI\",\"tags\":\"\",\"an...   \n",
       "\n",
       "                                   history_list_date  \n",
       "0  placeHolder;MS-9/24/2021, 10:09:10;MS-9/24/202...  "
      ]
     },
     "execution_count": 23,
     "metadata": {},
     "output_type": "execute_result"
    }
   ],
   "source": [
    "user_data = pd.read_csv('dummy data/userTableFormalNew.csv', encoding = 'utf-8')\n",
    "user_data.head(1)"
   ]
  },
  {
   "cell_type": "code",
   "execution_count": 25,
   "metadata": {},
   "outputs": [
    {
     "name": "stdout",
     "output_type": "stream",
     "text": [
      "3177\n"
     ]
    }
   ],
   "source": [
    "JC_assignment = ''\n",
    "for i in range(len(user_data)):\n",
    "    if(user_data.at[i,'userID'] == 'JC'):\n",
    "        JC_assignment = user_data.at[i,'userImagesV2'].replace('; ',';')\n",
    "        JC_arr = JC_assignment.split(';')\n",
    "        print(len(JC_arr))"
   ]
  },
  {
   "cell_type": "code",
   "execution_count": 28,
   "metadata": {},
   "outputs": [],
   "source": [
    "users = pd.read_csv('dummy data/vis7years/users.csv', encoding = 'utf-8')\n",
    "for i in range(len(users)):\n",
    "    if(users.at[i,'M_username'] == 'JC'):\n",
    "        users.at[i,'M_assignment_by_image_id'] = JC_assignment "
   ]
  },
  {
   "cell_type": "code",
   "execution_count": 29,
   "metadata": {},
   "outputs": [],
   "source": [
    "users.to_csv('dummy data/vis7years/user_new.csv', index=False, encoding='utf_8_sig')"
   ]
  },
  {
   "cell_type": "code",
   "execution_count": 30,
   "metadata": {},
   "outputs": [],
   "source": [
    "class Utils():\n",
    "\n",
    "    @staticmethod\n",
    "    def createTableDicByData(dicID, data):\n",
    "        dataDic = {}\n",
    "        column_list = data.columns.values.tolist()\n",
    "        for i in range(len(data)):\n",
    "            dataID = str(data.loc[i,dicID])\n",
    "            if(dataID in dataDic):\n",
    "                dataInfo = {}\n",
    "                for key in column_list:\n",
    "                    dataInfo[key] = data.loc[i,key]\n",
    "                dataDic[dataID].append(dataInfo)\n",
    "            else:\n",
    "                dataInfo = {}\n",
    "                for key in column_list:\n",
    "                    dataInfo[key] = data.loc[i,key]\n",
    "                dataDic[dataID] = [dataInfo]\n",
    "        return dataDic \n",
    "\n",
    "    @staticmethod\n",
    "    def createTableDicTwoByData(dicID1, dicID2, data):\n",
    "        dataDic = {}\n",
    "        column_list = data.columns.values.tolist()\n",
    "        for i in range(len(data)):\n",
    "            dataID1 = data.loc[i,dicID1]\n",
    "            dataID2 = data.loc[i,dicID2]\n",
    "            dataID = str(dataID1) + '-' + str(dataID2)\n",
    "            if(dataID in dataDic):\n",
    "                dataInfo = {}\n",
    "                for key in column_list:\n",
    "                    dataInfo[key] = data.loc[i,key]\n",
    "                dataDic[dataID].append(dataInfo)\n",
    "            else:\n",
    "                dataInfo = {}\n",
    "                for key in column_list:\n",
    "                    dataInfo[key] = data.loc[i,key]\n",
    "                dataDic[dataID] = [dataInfo]\n",
    "        return dataDic "
   ]
  },
  {
   "cell_type": "code",
   "execution_count": 47,
   "metadata": {},
   "outputs": [],
   "source": [
    "anno_data_old = pd.read_csv('dummy data/annotation_table_V2.csv', encoding = 'utf-8')\n",
    "anno_dic = Utils.createTableDicTwoByData('imageID', 'userID', anno_data_old)"
   ]
  },
  {
   "cell_type": "code",
   "execution_count": 48,
   "metadata": {},
   "outputs": [],
   "source": [
    "data = pd.read_csv('dummy data/raw_annotations.csv', encoding = 'utf-8')\n",
    "for i in range(len(data)):\n",
    "    image_id = data.at[i,'image_id']\n",
    "    username = data.at[i,'username']\n",
    "    key = image_id + '-' + username\n",
    "    record = anno_dic[key][0]\n",
    "    data.at[i,'is_error_image'] = int(record['isMark'])\n",
    "    data.at[i,'need_discuss'] = int(record['needAnotherCoder'])\n",
    "    data.at[i,'marked_fun'] = int(record['isFunFigure'])\n",
    "    data.at[i,'marked_OK'] = int(record['isHappyFigure'])\n",
    "    for label_id in docanno2visanno:\n",
    "        tag = docanno2visanno[label_id]\n",
    "        if(tag in record):\n",
    "            data.loc[i,label_id] = record[tag]\n",
    "        else:\n",
    "            if(label_id == 'lab_25'):\n",
    "                if(record['ifNested'] == 0):\n",
    "                    data.at[i,label_id] = 'lab_26'\n",
    "                elif(record['ifNested'] == 1):\n",
    "                    data.at[i,label_id] = 'lab_27'\n",
    "                elif(record['ifNested'] == 2):\n",
    "                    data.at[i,label_id] = 'lab_28'\n",
    "            elif(label_id == 'lab_29'):\n",
    "                if(record['hardness'] == 1):\n",
    "                    data.at[i,label_id] = 'lab_30'\n",
    "                elif(record['hardness'] == 2):\n",
    "                    data.at[i,label_id] = 'lab_31'\n",
    "                elif(record['hardness'] == 3):\n",
    "                    data.at[i,label_id] = 'lab_32'"
   ]
  },
  {
   "cell_type": "code",
   "execution_count": 49,
   "metadata": {},
   "outputs": [],
   "source": [
    "data.to_csv('dummy data/vis7years/raw_annotations_new.csv', index=False, encoding='utf_8_sig')"
   ]
  },
  {
   "cell_type": "code",
   "execution_count": null,
   "metadata": {},
   "outputs": [],
   "source": []
  }
 ],
 "metadata": {
  "kernelspec": {
   "display_name": "Python 3.10.6 64-bit (windows store)",
   "language": "python",
   "name": "python3"
  },
  "language_info": {
   "codemirror_mode": {
    "name": "ipython",
    "version": 3
   },
   "file_extension": ".py",
   "mimetype": "text/x-python",
   "name": "python",
   "nbconvert_exporter": "python",
   "pygments_lexer": "ipython3",
   "version": "3.10.6"
  },
  "toc": {
   "base_numbering": 1,
   "nav_menu": {},
   "number_sections": true,
   "sideBar": true,
   "skip_h1_title": false,
   "title_cell": "Table of Contents",
   "title_sidebar": "Contents",
   "toc_cell": false,
   "toc_position": {},
   "toc_section_display": true,
   "toc_window_display": false
  },
  "vscode": {
   "interpreter": {
    "hash": "30e6c767540de2a0a60f7fbd033445f8e7ed291f21ab667904402e73c784e3b2"
   }
  }
 },
 "nbformat": 4,
 "nbformat_minor": 4
}

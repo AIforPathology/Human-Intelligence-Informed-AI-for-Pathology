{
 "cells": [
  {
   "cell_type": "code",
   "execution_count": 6,
   "metadata": {},
   "outputs": [],
   "source": [
    "import openslide\n",
    "import openslide.deepzoom\n",
    "import os\n",
    "import numpy as np\n",
    "from matplotlib import pyplot as plt\n",
    "from PIL import Image\n",
    "import shutil\n",
    "from tqdm import tqdm"
   ]
  },
  {
   "cell_type": "code",
   "execution_count": 7,
   "metadata": {},
   "outputs": [],
   "source": [
    "img = openslide.OpenSlide('eaae490bfc1d9f10fd34caf902a6900d_mask.tiff')"
   ]
  },
  {
   "cell_type": "code",
   "execution_count": 8,
   "metadata": {},
   "outputs": [
    {
     "data": {
      "text/plain": [
       "<_PropertyMap {'openslide.level-count': '3', 'openslide.level[0].downsample': '1', 'openslide.level[0].height': '18432', 'openslide.level[0].tile-height': '512', 'openslide.level[0].tile-width': '512', 'openslide.level[0].width': '36864', 'openslide.level[1].downsample': '4', 'openslide.level[1].height': '4608', 'openslide.level[1].tile-height': '512', 'openslide.level[1].tile-width': '512', 'openslide.level[1].width': '9216', 'openslide.level[2].downsample': '16', 'openslide.level[2].height': '1152', 'openslide.level[2].tile-height': '512', 'openslide.level[2].tile-width': '512', 'openslide.level[2].width': '2304', 'openslide.quickhash-1': '53bd2260e5b30592a76c43a5a5ace425aa363b8c9b4197bba0d0f86db68c9db4', 'openslide.vendor': 'generic-tiff', 'tiff.ResolutionUnit': 'centimeter', 'tiff.XResolution': '20833.376803228592', 'tiff.YResolution': '20833.376803228592'}>"
      ]
     },
     "execution_count": 8,
     "metadata": {},
     "output_type": "execute_result"
    }
   ],
   "source": [
    "img.properties"
   ]
  },
  {
   "cell_type": "code",
   "execution_count": 9,
   "metadata": {},
   "outputs": [
    {
     "name": "stdout",
     "output_type": "stream",
     "text": [
      "meta information:\n",
      "format: philips\n",
      "level_count: 3\n",
      "dimensions: (36864, 18432)\n",
      "level_dimensions: ((36864, 18432), (9216, 4608), (2304, 1152))\n",
      "level_downsamples: (1.0, 4.0, 16.0)\n"
     ]
    }
   ],
   "source": [
    "# APIs: https://openslide.org/api/python/#example-programs\n",
    "# useful video: https://www.youtube.com/watch?v=QntLBvUZR5c\n",
    "print(f\"meta information:\")\n",
    "print(f\"format: {img.detect_format('tumor_109.tif')}\")\n",
    "print(f\"level_count: {img.level_count}\")\n",
    "print(f\"dimensions: {img.dimensions}\")\n",
    "print(f\"level_dimensions: {img.level_dimensions}\")\n",
    "print(f\"level_downsamples: {img.level_downsamples}\")\n"
   ]
  },
  {
   "cell_type": "code",
   "execution_count": 13,
   "metadata": {},
   "outputs": [],
   "source": [
    "slide_thumb_600 = img.get_thumbnail(size=(1600,1600))\n",
    "slide_thumb_600.show()"
   ]
  },
  {
   "cell_type": "code",
   "execution_count": 17,
   "metadata": {},
   "outputs": [],
   "source": [
    "dz = openslide.deepzoom.DeepZoomGenerator(img, tile_size = 512, overlap = 1, limit_bounds=False)"
   ]
  },
  {
   "cell_type": "code",
   "execution_count": 72,
   "metadata": {},
   "outputs": [
    {
     "name": "stdout",
     "output_type": "stream",
     "text": [
      "number of levels: 18\n",
      "number of tiles: 59834\n"
     ]
    },
    {
     "name": "stderr",
     "output_type": "stream",
     "text": [
      "100%|██████████| 18/18 [16:54<00:00, 56.37s/it] \n"
     ]
    }
   ],
   "source": [
    "'''\n",
    "Given a medical slide image, convert it to a tilesets using deepzoom\n",
    "Image saving properties: https://pillow.readthedocs.io/en/stable/handbook/image-file-formats.html#jpeg\n",
    "@filename - the file name of the slide image, \n",
    "@tile_size: (int) – the width and height of a single tile. For best viewer performance, tile_size + 2 * overlap should be a power of two.\n",
    "@tile_overlap (int) – the number of extra pixels to add to each interior edge of a tile\n",
    "limit_bounds (bool) – True to render only the non-empty slide region\n",
    "'''\n",
    "def generateTile(filename, tile_size, tile_overlap, tile_format):\n",
    "    dir = os.path.splitext(filename)[0]\n",
    "    if(os.path.isdir(dir)):\n",
    "        shutil.rmtree(dir)\n",
    "        os.mkdir(dir)\n",
    "    else:\n",
    "        os.mkdir(dir)\n",
    "    slide = openslide.OpenSlide(filename)\n",
    "    tiles = openslide.deepzoom.DeepZoomGenerator(slide, tile_size = tile_size, overlap = tile_overlap, limit_bounds=False)\n",
    "    text_file = open(f\"{dir}/{dir}.dzi\", \"w\")\n",
    "    text_file.write(tiles.get_dzi(tile_format))\n",
    "    text_file.close()\n",
    "    dir = f\"{dir}/{dir}_files\"\n",
    "    os.mkdir(dir)\n",
    "    print(f\"number of levels: {tiles.level_count}\")\n",
    "    print(f\"number of tiles: {tiles.tile_count}\")\n",
    "    tile_count = tiles.tile_count\n",
    "    level_count = tiles.level_count\n",
    "    for level in tqdm(range(level_count)):\n",
    "        level_dir = f\"{dir}/{level}\"\n",
    "        os.mkdir(level_dir)\n",
    "        cols, rows = tiles.level_tiles[level]\n",
    "        for row in range(rows):\n",
    "            for col in range(cols):\n",
    "                tile_name = f\"{dir}/{level}/{col}_{row}.{tile_format}\"\n",
    "                temp_tile = tiles.get_tile(level, (col, row))\n",
    "                temp_tile.save(tile_name, 'JPEG')\n",
    "                      \n",
    "generateTile('tumor_109.tif', 512, 1, 'jpeg')\n"
   ]
  },
  {
   "cell_type": "markdown",
   "metadata": {},
   "source": [
    "# get ground truth data"
   ]
  },
  {
   "cell_type": "code",
   "execution_count": 5,
   "metadata": {},
   "outputs": [],
   "source": [
    "import json\n",
    "import xmltodict"
   ]
  },
  {
   "cell_type": "code",
   "execution_count": 8,
   "metadata": {},
   "outputs": [],
   "source": [
    "\n",
    "with open('2bb4f3202acd0b3cd10ffae292b6edf8_mask.xml', 'r', encoding='utf-8') as file:\n",
    "    my_xml = file.read()\n",
    "\n",
    "gt = xmltodict.parse(my_xml)\n",
    "  "
   ]
  },
  {
   "cell_type": "code",
   "execution_count": 9,
   "metadata": {},
   "outputs": [
    {
     "ename": "TypeError",
     "evalue": "'NoneType' object is not subscriptable",
     "output_type": "error",
     "traceback": [
      "\u001b[1;31m---------------------------------------------------------------------------\u001b[0m",
      "\u001b[1;31mTypeError\u001b[0m                                 Traceback (most recent call last)",
      "Cell \u001b[1;32mIn [9], line 1\u001b[0m\n\u001b[1;32m----> 1\u001b[0m gt_data \u001b[38;5;241m=\u001b[39m \u001b[43mgt\u001b[49m\u001b[43m[\u001b[49m\u001b[38;5;124;43m'\u001b[39;49m\u001b[38;5;124;43mASAP_Annotations\u001b[39;49m\u001b[38;5;124;43m'\u001b[39;49m\u001b[43m]\u001b[49m\u001b[43m[\u001b[49m\u001b[38;5;124;43m'\u001b[39;49m\u001b[38;5;124;43mAnnotations\u001b[39;49m\u001b[38;5;124;43m'\u001b[39;49m\u001b[43m]\u001b[49m\u001b[43m[\u001b[49m\u001b[38;5;124;43m'\u001b[39;49m\u001b[38;5;124;43mAnnotation\u001b[39;49m\u001b[38;5;124;43m'\u001b[39;49m\u001b[43m]\u001b[49m\n\u001b[0;32m      2\u001b[0m jsonData \u001b[38;5;241m=\u001b[39m {\u001b[38;5;124m'\u001b[39m\u001b[38;5;124mdata\u001b[39m\u001b[38;5;124m'\u001b[39m:[]}\n\u001b[0;32m      3\u001b[0m \u001b[38;5;28;01mfor\u001b[39;00m annotation \u001b[38;5;129;01min\u001b[39;00m gt_data:\n\u001b[0;32m      4\u001b[0m     \u001b[38;5;66;03m#if str(annotation['@PartOfGroup']) != \"_2\":\u001b[39;00m\n",
      "\u001b[1;31mTypeError\u001b[0m: 'NoneType' object is not subscriptable"
     ]
    }
   ],
   "source": [
    "gt_data = gt['ASAP_Annotations']['Annotations']['Annotation']\n",
    "jsonData = {'data':[]}\n",
    "for annotation in gt_data:\n",
    "    #if str(annotation['@PartOfGroup']) != \"_2\":\n",
    "    record = {}\n",
    "    record['@context'] = \"http://www.w3.org/ns/anno.jsonld\"\n",
    "    record['id'] = annotation['@Name']\n",
    "    record['type'] = 'Annotation'\n",
    "    record['body'] = {}\n",
    "    if str(annotation['@PartOfGroup']) == \"_0\": \n",
    "        if str(annotation['@PartOfGroup']) == \"_0\":\n",
    "            record['body']['name'] = \"Tumor\"\n",
    "            record['body']['value'] = \"lab_2\"\n",
    "        if str(annotation['@PartOfGroup']) == \"_2\":\n",
    "            print(str(annotation['@PartOfGroup']))\n",
    "            record['body']['name'] = \"Benign\"\n",
    "            record['body']['value'] = \"lab_3\"\n",
    "        record['body']['purpose'] = 'tagging'\n",
    "        record['body']['type'] = 'TextualBody' \n",
    "        record['target'] = {}\n",
    "        record['target']['source'] = \"https://camelyon17.grand-challenge.org/Data/\"\n",
    "        record['target']['selector'] = {}\n",
    "        record['target']['selector']['type'] = 'SvgSelector'\n",
    "        #\"<svg><polygon points=\"34761.37109375,13919.111328125 58194.9453125,14564.1015625 50868.2890625,22088.78125 31129.6015625,21207.041015625 31162.7421875,21148.982421875\"></polygon></svg>\"\n",
    "        coords = \"\"\n",
    "        \n",
    "        if type(annotation['Coordinates']['Coordinate']) is dict:\n",
    "            print(annotation['Coordinates']['Coordinate'])\n",
    "        else:\n",
    "            for value in annotation['Coordinates']['Coordinate']:\n",
    "                #print(value)\n",
    "                coords += value['@X'] + ',' + value['@Y'] + ' '\n",
    "            record['target']['selector']['value'] = \"<svg><polygon points=\\\"\"+coords+\"\\\"></polygon></svg>\"\n",
    "            jsonData['data'].append(record)\n",
    "\n",
    "with open('pandasneg.json', 'w') as fp:\n",
    "    json.dump(jsonData, fp)\n",
    "\n",
    "#jsonData"
   ]
  }
 ],
 "metadata": {
  "kernelspec": {
   "display_name": "Python 3.8.13 ('vis')",
   "language": "python",
   "name": "python3"
  },
  "language_info": {
   "codemirror_mode": {
    "name": "ipython",
    "version": 3
   },
   "file_extension": ".py",
   "mimetype": "text/x-python",
   "name": "python",
   "nbconvert_exporter": "python",
   "pygments_lexer": "ipython3",
   "version": "3.8.13"
  },
  "orig_nbformat": 4,
  "vscode": {
   "interpreter": {
    "hash": "d07ce3927019baa12fcaaaa9f108030ed22208a866e042690d686e9ed147ba90"
   }
  }
 },
 "nbformat": 4,
 "nbformat_minor": 2
}

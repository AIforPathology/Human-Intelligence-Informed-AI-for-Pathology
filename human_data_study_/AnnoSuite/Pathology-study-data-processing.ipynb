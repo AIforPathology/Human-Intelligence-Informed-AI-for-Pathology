{
 "cells": [
  {
   "cell_type": "code",
   "execution_count": 1,
   "metadata": {},
   "outputs": [],
   "source": [
    "from os import stat\n",
    "import pandas as pd"
   ]
  },
  {
   "cell_type": "code",
   "execution_count": 3,
   "metadata": {},
   "outputs": [
    {
     "name": "stdout",
     "output_type": "stream",
     "text": [
      "Index(['M_image_id', 'M_image_name', 'M_image_url', 'M_display_order',\n",
      "       'O_caption_url', 'O_paper_url', 'O_year'],\n",
      "      dtype='object')\n"
     ]
    }
   ],
   "source": [
    "image_data = pd.read_csv('doc_anno_suite/static/upload_files/inputs/images.csv', encoding = 'utf-8')\n",
    "image_data.head(5)\n",
    "\n",
    "print(image_data.columns)"
   ]
  },
  {
   "cell_type": "code",
   "execution_count": 10,
   "metadata": {},
   "outputs": [],
   "source": [
    "for i in range(len(image_data)):\n",
    "    id = image_data.at[i,'M_image_id']\n",
    "    if id[0] == 'C':\n",
    "        image_name = image_data.at[i,'M_image_name']\n",
    "        url = f\"../static/medical_images/{image_name}/{image_name}.dzi\"\n",
    "        image_data.at[i,'M_image_url'] = url\n",
    "    elif id[0] == 'P':\n",
    "        image_name = image_data.at[i,'M_image_name'][:-5]\n",
    "        url = f\"../static/medical_images/pandaTiles/{image_name}/{image_name}.dzi\"\n",
    "        image_data.at[i,'M_image_url'] = url\n",
    "    image_data.at[i,'M_display_order'] = i + 1\n",
    "image_data.to_csv('test cases/study1/images.csv', index=False, encoding='utf-8')"
   ]
  }
 ],
 "metadata": {
  "kernelspec": {
   "display_name": "Python 3.8.13 ('vis')",
   "language": "python",
   "name": "python3"
  },
  "language_info": {
   "codemirror_mode": {
    "name": "ipython",
    "version": 3
   },
   "file_extension": ".py",
   "mimetype": "text/x-python",
   "name": "python",
   "nbconvert_exporter": "python",
   "pygments_lexer": "ipython3",
   "version": "3.8.13"
  },
  "orig_nbformat": 4,
  "vscode": {
   "interpreter": {
    "hash": "80e25b2b71e1b969a720169da8c9142f5b822fa5a022b19115075346b69fe9f0"
   }
  }
 },
 "nbformat": 4,
 "nbformat_minor": 2
}
